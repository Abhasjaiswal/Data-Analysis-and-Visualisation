{
 "cells": [
  {
   "cell_type": "markdown",
   "metadata": {},
   "source": [
    "## Importing Pandas"
   ]
  },
  {
   "cell_type": "code",
   "execution_count": 2,
   "metadata": {},
   "outputs": [],
   "source": [
    "import pandas as pd \n",
    "import numpy as np "
   ]
  },
  {
   "cell_type": "markdown",
   "metadata": {},
   "source": [
    "## Series \n",
    "Series is a one-dimensional labeled array capable of holding any data type (integers, strings, floating point numbers, Python objects, etc.). The axis labels are collectively referred to as the index. The basic method to create a Series is to call:\n",
    "s = pd.Series(data, index=index)\n",
    "Here, data can be many different things:\n",
    "\n",
    "a Python dict\n",
    "\n",
    "an ndarray\n",
    "\n",
    "a scalar value (like 5)\n",
    "\n",
    "The passed index is a list of axis labels. Thus, this separates into a few cases depending on what data is:"
   ]
  },
  {
   "cell_type": "markdown",
   "metadata": {},
   "source": [
    "## Series from Lists"
   ]
  },
  {
   "cell_type": "code",
   "execution_count": 3,
   "metadata": {},
   "outputs": [
    {
     "data": {
      "text/plain": [
       "0        India\n",
       "1          USA\n",
       "2           UK\n",
       "3       Canada\n",
       "4    Australia\n",
       "dtype: object"
      ]
     },
     "execution_count": 3,
     "metadata": {},
     "output_type": "execute_result"
    }
   ],
   "source": [
    "#Strings\n",
    "Country=[\"India\",\"USA\",\"UK\",\"Canada\",\"Australia\"]\n",
    "pd.Series(Country)"
   ]
  },
  {
   "cell_type": "code",
   "execution_count": 4,
   "metadata": {},
   "outputs": [
    {
     "data": {
      "text/plain": [
       "0    23\n",
       "1    45\n",
       "2    67\n",
       "3    89\n",
       "4    34\n",
       "dtype: int64"
      ]
     },
     "execution_count": 4,
     "metadata": {},
     "output_type": "execute_result"
    }
   ],
   "source": [
    "#Integers\n",
    "Age=[23,45,67,89,34]\n",
    "pd.Series(Age)"
   ]
  },
  {
   "cell_type": "code",
   "execution_count": 5,
   "metadata": {},
   "outputs": [
    {
     "data": {
      "text/plain": [
       "Maths        23\n",
       "Science      45\n",
       "English      67\n",
       "History      89\n",
       "Geography    34\n",
       "dtype: int64"
      ]
     },
     "execution_count": 5,
     "metadata": {},
     "output_type": "execute_result"
    }
   ],
   "source": [
    "#Custom Index \n",
    "marks=[23,45,67,89,34]\n",
    "subjects=['Maths','Science','English','History','Geography']\n",
    "pd.Series(marks, index=subjects)\n",
    "\n",
    "#We have a parameter called index which can be used to assign custom index to the series in Pandas "
   ]
  },
  {
   "cell_type": "code",
   "execution_count": 6,
   "metadata": {},
   "outputs": [],
   "source": [
    "# Setting a name\n",
    "# In the above example, we can provide a name to the series that we have created \n",
    "Result=pd.Series(marks, index=subjects,name='Marks')\n",
    "#We have a parameter called name which can be used to assign a name to the series in Pandas"
   ]
  },
  {
   "cell_type": "code",
   "execution_count": 7,
   "metadata": {},
   "outputs": [
    {
     "data": {
      "text/plain": [
       "Maths        23\n",
       "Science      45\n",
       "English      67\n",
       "History      89\n",
       "Geography    34\n",
       "Name: Marks, dtype: int64"
      ]
     },
     "execution_count": 7,
     "metadata": {},
     "output_type": "execute_result"
    }
   ],
   "source": [
    "Result"
   ]
  },
  {
   "cell_type": "markdown",
   "metadata": {},
   "source": [
    "## Series from Dictionary "
   ]
  },
  {
   "cell_type": "code",
   "execution_count": 8,
   "metadata": {},
   "outputs": [
    {
     "data": {
      "text/plain": [
       "Maths        23\n",
       "Science      45\n",
       "English      67\n",
       "History      89\n",
       "Geography    34\n",
       "Name: Marks, dtype: int64"
      ]
     },
     "execution_count": 8,
     "metadata": {},
     "output_type": "execute_result"
    }
   ],
   "source": [
    "marks={'Maths':23,'Science':45,'English':67,'History':89,'Geography':34}\n",
    "marks_series=pd.Series(marks,name='Marks')\n",
    "marks_series"
   ]
  },
  {
   "cell_type": "markdown",
   "metadata": {},
   "source": [
    "## Series Attributes "
   ]
  },
  {
   "cell_type": "code",
   "execution_count": 9,
   "metadata": {},
   "outputs": [
    {
     "data": {
      "text/plain": [
       "5"
      ]
     },
     "execution_count": 9,
     "metadata": {},
     "output_type": "execute_result"
    }
   ],
   "source": [
    "# Size\n",
    "marks_series.size"
   ]
  },
  {
   "cell_type": "code",
   "execution_count": 10,
   "metadata": {},
   "outputs": [
    {
     "data": {
      "text/plain": [
       "dtype('int64')"
      ]
     },
     "execution_count": 10,
     "metadata": {},
     "output_type": "execute_result"
    }
   ],
   "source": [
    "#dtype\n",
    "marks_series.dtype\n"
   ]
  },
  {
   "cell_type": "code",
   "execution_count": 11,
   "metadata": {},
   "outputs": [
    {
     "data": {
      "text/plain": [
       "'Marks'"
      ]
     },
     "execution_count": 11,
     "metadata": {},
     "output_type": "execute_result"
    }
   ],
   "source": [
    "#name\n",
    "marks_series.name"
   ]
  },
  {
   "cell_type": "code",
   "execution_count": 12,
   "metadata": {},
   "outputs": [
    {
     "data": {
      "text/plain": [
       "True"
      ]
     },
     "execution_count": 12,
     "metadata": {},
     "output_type": "execute_result"
    }
   ],
   "source": [
    "#is Unique \n",
    "marks_series.is_unique  "
   ]
  },
  {
   "cell_type": "code",
   "execution_count": 13,
   "metadata": {},
   "outputs": [
    {
     "data": {
      "text/plain": [
       "Index(['Maths', 'Science', 'English', 'History', 'Geography'], dtype='object')"
      ]
     },
     "execution_count": 13,
     "metadata": {},
     "output_type": "execute_result"
    }
   ],
   "source": [
    "#Index\n",
    "marks_series.index"
   ]
  },
  {
   "cell_type": "code",
   "execution_count": 14,
   "metadata": {},
   "outputs": [
    {
     "data": {
      "text/plain": [
       "array([23, 45, 67, 89, 34])"
      ]
     },
     "execution_count": 14,
     "metadata": {},
     "output_type": "execute_result"
    }
   ],
   "source": [
    "#Values\n",
    "marks_series.values"
   ]
  },
  {
   "cell_type": "markdown",
   "metadata": {},
   "source": [
    "## Series using read_csv"
   ]
  },
  {
   "cell_type": "code",
   "execution_count": 15,
   "metadata": {},
   "outputs": [
    {
     "data": {
      "text/plain": [
       "0       48\n",
       "1       57\n",
       "2       40\n",
       "3       43\n",
       "4       44\n",
       "      ... \n",
       "360    231\n",
       "361    226\n",
       "362    155\n",
       "363    144\n",
       "364    172\n",
       "Name: Subscribers gained, Length: 365, dtype: int64"
      ]
     },
     "execution_count": 15,
     "metadata": {},
     "output_type": "execute_result"
    }
   ],
   "source": [
    "# with one column\n",
    "pd.read_csv('/Users/abhasjaiswal/Desktop/Data-Analysis-and-Visualisation/Pandas/datasets/subs.csv')\n",
    "type(pd.read_csv('/Users/abhasjaiswal/Desktop/Data-Analysis-and-Visualisation/Pandas/datasets/subs.csv'))\n",
    "#If we simply execute the above code, then it will display the data in the form of a table i.e. it is a pandas dataframe not series \n",
    "#If we want to read the data in the form of a series, then we need to use squeeze=True parameter in the read_csv() function\n",
    "subs=pd.read_csv('/Users/abhasjaiswal/Desktop/Data-Analysis-and-Visualisation/Pandas/datasets/subs.csv').squeeze()\n",
    "subs"
   ]
  },
  {
   "cell_type": "code",
   "execution_count": 16,
   "metadata": {},
   "outputs": [
    {
     "data": {
      "text/plain": [
       "match_no\n",
       "1       1\n",
       "2      23\n",
       "3      13\n",
       "4      12\n",
       "5       1\n",
       "       ..\n",
       "211     0\n",
       "212    20\n",
       "213    73\n",
       "214    25\n",
       "215     7\n",
       "Name: runs, Length: 215, dtype: int64"
      ]
     },
     "execution_count": 16,
     "metadata": {},
     "output_type": "execute_result"
    }
   ],
   "source": [
    "# with two columns\n",
    "Kohli=pd.read_csv('/Users/abhasjaiswal/Desktop/Data-Analysis-and-Visualisation/Pandas/datasets/kohli_ipl.csv',index_col='match_no').squeeze()\n",
    "Kohli"
   ]
  },
  {
   "cell_type": "code",
   "execution_count": 17,
   "metadata": {},
   "outputs": [
    {
     "data": {
      "text/plain": [
       "movie\n",
       "Uri: The Surgical Strike                   Vicky Kaushal\n",
       "Battalion 609                                Vicky Ahuja\n",
       "The Accidental Prime Minister (film)         Anupam Kher\n",
       "Why Cheat India                            Emraan Hashmi\n",
       "Evening Shadows                         Mona Ambegaonkar\n",
       "                                              ...       \n",
       "Hum Tumhare Hain Sanam                    Shah Rukh Khan\n",
       "Aankhen (2002 film)                     Amitabh Bachchan\n",
       "Saathiya (film)                             Vivek Oberoi\n",
       "Company (film)                                Ajay Devgn\n",
       "Awara Paagal Deewana                        Akshay Kumar\n",
       "Name: lead, Length: 1500, dtype: object"
      ]
     },
     "execution_count": 17,
     "metadata": {},
     "output_type": "execute_result"
    }
   ],
   "source": [
    "movies=pd.read_csv('/Users/abhasjaiswal/Desktop/Data-Analysis-and-Visualisation/Pandas/datasets/bollywood.csv',index_col='movie').squeeze()\n",
    "movies"
   ]
  },
  {
   "cell_type": "markdown",
   "metadata": {},
   "source": [
    "# Series Methods"
   ]
  },
  {
   "cell_type": "code",
   "execution_count": 18,
   "metadata": {},
   "outputs": [
    {
     "data": {
      "text/plain": [
       "0    48\n",
       "1    57\n",
       "2    40\n",
       "3    43\n",
       "4    44\n",
       "Name: Subscribers gained, dtype: int64"
      ]
     },
     "execution_count": 18,
     "metadata": {},
     "output_type": "execute_result"
    }
   ],
   "source": [
    "# Head and Tail \n",
    "subs.head() #By default, it will display the first 5 rows of the series"
   ]
  },
  {
   "cell_type": "code",
   "execution_count": 19,
   "metadata": {},
   "outputs": [
    {
     "data": {
      "text/plain": [
       "match_no\n",
       "1     1\n",
       "2    23\n",
       "3    13\n",
       "Name: runs, dtype: int64"
      ]
     },
     "execution_count": 19,
     "metadata": {},
     "output_type": "execute_result"
    }
   ],
   "source": [
    "Kohli.head(3) # We can specify the number of rows that we want to display from the top of the series"
   ]
  },
  {
   "cell_type": "code",
   "execution_count": 20,
   "metadata": {},
   "outputs": [
    {
     "data": {
      "text/plain": [
       "match_no\n",
       "211     0\n",
       "212    20\n",
       "213    73\n",
       "214    25\n",
       "215     7\n",
       "Name: runs, dtype: int64"
      ]
     },
     "execution_count": 20,
     "metadata": {},
     "output_type": "execute_result"
    }
   ],
   "source": [
    "Kohli.tail() #By default, it will display the last 5 rows of the series"
   ]
  },
  {
   "cell_type": "code",
   "execution_count": 21,
   "metadata": {},
   "outputs": [
    {
     "data": {
      "text/plain": [
       "match_no\n",
       "179    48\n",
       "Name: runs, dtype: int64"
      ]
     },
     "execution_count": 21,
     "metadata": {},
     "output_type": "execute_result"
    }
   ],
   "source": [
    "#sample\n",
    "Kohli.sample()\n",
    "# it will display a random row from the series\n",
    "# We can also specify the number of random rows that we want to display from the series"
   ]
  },
  {
   "cell_type": "code",
   "execution_count": 22,
   "metadata": {},
   "outputs": [
    {
     "data": {
      "text/plain": [
       "lead\n",
       "Akshay Kumar        48\n",
       "Amitabh Bachchan    45\n",
       "Ajay Devgn          38\n",
       "Salman Khan         31\n",
       "Sanjay Dutt         26\n",
       "                    ..\n",
       "Diganth              1\n",
       "Parveen Kaur         1\n",
       "Seema Azmi           1\n",
       "Akanksha Puri        1\n",
       "Edwin Fernandes      1\n",
       "Name: count, Length: 566, dtype: int64"
      ]
     },
     "execution_count": 22,
     "metadata": {},
     "output_type": "execute_result"
    }
   ],
   "source": [
    "# value_counts\n",
    "movies.value_counts()\n",
    "#It will display the count of each unique value in the series\n"
   ]
  },
  {
   "cell_type": "code",
   "execution_count": 23,
   "metadata": {},
   "outputs": [
    {
     "data": {
      "text/plain": [
       "match_no\n",
       "128    113\n",
       "126    109\n",
       "123    108\n",
       "164    100\n",
       "120    100\n",
       "      ... \n",
       "93       0\n",
       "211      0\n",
       "130      0\n",
       "8        0\n",
       "135      0\n",
       "Name: runs, Length: 215, dtype: int64"
      ]
     },
     "execution_count": 23,
     "metadata": {},
     "output_type": "execute_result"
    }
   ],
   "source": [
    "# sort_values\n",
    "Kohli.sort_values()\n",
    "Kohli.sort_values(ascending=False)  \n",
    "# It will sort the series in ascending order\n",
    "# We can also sort the series is descending order by using ascending=False parameter in the sort_values() function"
   ]
  },
  {
   "cell_type": "code",
   "execution_count": 24,
   "metadata": {},
   "outputs": [
    {
     "data": {
      "text/plain": [
       "array([113])"
      ]
     },
     "execution_count": 24,
     "metadata": {},
     "output_type": "execute_result"
    }
   ],
   "source": [
    "Kohli.sort_values(ascending=False).head(1).values\n",
    "# It is important to note that the data will not be changed untill we pass inplace parameter as True"
   ]
  },
  {
   "cell_type": "code",
   "execution_count": 25,
   "metadata": {},
   "outputs": [
    {
     "data": {
      "text/plain": [
       "movie\n",
       "1920 (film)                   Rajniesh Duggall\n",
       "1920: London                     Sharman Joshi\n",
       "1920: The Evil Returns             Vicky Ahuja\n",
       "1971 (2007 film)                Manoj Bajpayee\n",
       "2 States (2014 film)              Arjun Kapoor\n",
       "                                   ...        \n",
       "Zindagi 50-50                      Veena Malik\n",
       "Zindagi Na Milegi Dobara        Hrithik Roshan\n",
       "Zindagi Tere Naam           Mithun Chakraborty\n",
       "Zokkomon                       Darsheel Safary\n",
       "Zor Lagaa Ke...Haiya!            Meghan Jadhav\n",
       "Name: lead, Length: 1500, dtype: object"
      ]
     },
     "execution_count": 25,
     "metadata": {},
     "output_type": "execute_result"
    }
   ],
   "source": [
    "# sort_index \n",
    "movies.sort_index()"
   ]
  },
  {
   "cell_type": "code",
   "execution_count": 26,
   "metadata": {},
   "outputs": [
    {
     "data": {
      "text/plain": [
       "movie\n",
       "Uri: The Surgical Strike                   Vicky Kaushal\n",
       "Battalion 609                                Vicky Ahuja\n",
       "The Accidental Prime Minister (film)         Anupam Kher\n",
       "Why Cheat India                            Emraan Hashmi\n",
       "Evening Shadows                         Mona Ambegaonkar\n",
       "                                              ...       \n",
       "Hum Tumhare Hain Sanam                    Shah Rukh Khan\n",
       "Aankhen (2002 film)                     Amitabh Bachchan\n",
       "Saathiya (film)                             Vivek Oberoi\n",
       "Company (film)                                Ajay Devgn\n",
       "Awara Paagal Deewana                        Akshay Kumar\n",
       "Name: lead, Length: 1500, dtype: object"
      ]
     },
     "execution_count": 26,
     "metadata": {},
     "output_type": "execute_result"
    }
   ],
   "source": [
    "movies\n",
    "# As you can see here the data is not changed because we have not passed inplace parameter as True"
   ]
  },
  {
   "cell_type": "code",
   "execution_count": 27,
   "metadata": {},
   "outputs": [
    {
     "data": {
      "text/plain": [
       "movie\n",
       "1920 (film)                   Rajniesh Duggall\n",
       "1920: London                     Sharman Joshi\n",
       "1920: The Evil Returns             Vicky Ahuja\n",
       "1971 (2007 film)                Manoj Bajpayee\n",
       "2 States (2014 film)              Arjun Kapoor\n",
       "                                   ...        \n",
       "Zindagi 50-50                      Veena Malik\n",
       "Zindagi Na Milegi Dobara        Hrithik Roshan\n",
       "Zindagi Tere Naam           Mithun Chakraborty\n",
       "Zokkomon                       Darsheel Safary\n",
       "Zor Lagaa Ke...Haiya!            Meghan Jadhav\n",
       "Name: lead, Length: 1500, dtype: object"
      ]
     },
     "execution_count": 27,
     "metadata": {},
     "output_type": "execute_result"
    }
   ],
   "source": [
    "movies.sort_index(inplace=True) \n",
    "# Now the data is changed because we have passed inplace parameter as True\n",
    "movies"
   ]
  },
  {
   "cell_type": "code",
   "execution_count": 28,
   "metadata": {},
   "outputs": [
    {
     "data": {
      "text/plain": [
       "movie\n",
       "Qaidi Band                            Aadar Jain\n",
       "Roar: Tigers of the Sundarbans      Aadil Chahal\n",
       "Lipstick Under My Burkha            Aahana Kumra\n",
       "Raat Gayi Baat Gayi?                Aamir Bashir\n",
       "Talaash: The Answer Lies Within       Aamir Khan\n",
       "                                        ...     \n",
       "Sallu Ki Shaadi                      Zeenat Aman\n",
       "Dunno Y... Na Jaane Kyon             Zeenat Aman\n",
       "Dil Toh Deewana Hai                  Zeenat Aman\n",
       "Strings of Passion                   Zeenat Aman\n",
       "Taj Mahal: An Eternal Love Story     Zulfi Sayed\n",
       "Name: lead, Length: 1500, dtype: object"
      ]
     },
     "execution_count": 28,
     "metadata": {},
     "output_type": "execute_result"
    }
   ],
   "source": [
    "movies.sort_values(inplace=True)    \n",
    "movies"
   ]
  },
  {
   "cell_type": "markdown",
   "metadata": {},
   "source": [
    "## Series Maths Methods "
   ]
  },
  {
   "cell_type": "code",
   "execution_count": 29,
   "metadata": {},
   "outputs": [
    {
     "data": {
      "text/plain": [
       "215"
      ]
     },
     "execution_count": 29,
     "metadata": {},
     "output_type": "execute_result"
    }
   ],
   "source": [
    "# Count \n",
    "# Note that it doesn't count the missing values\n",
    "Kohli.count()"
   ]
  },
  {
   "cell_type": "code",
   "execution_count": 30,
   "metadata": {},
   "outputs": [
    {
     "data": {
      "text/plain": [
       "49510"
      ]
     },
     "execution_count": 30,
     "metadata": {},
     "output_type": "execute_result"
    }
   ],
   "source": [
    "# Sum\n",
    "subs.sum()"
   ]
  },
  {
   "cell_type": "code",
   "execution_count": 31,
   "metadata": {},
   "outputs": [
    {
     "data": {
      "text/plain": [
       "135.64383561643837"
      ]
     },
     "execution_count": 31,
     "metadata": {},
     "output_type": "execute_result"
    }
   ],
   "source": [
    "subs.mean()"
   ]
  },
  {
   "cell_type": "code",
   "execution_count": 32,
   "metadata": {},
   "outputs": [
    {
     "data": {
      "text/plain": [
       "123.0"
      ]
     },
     "execution_count": 32,
     "metadata": {},
     "output_type": "execute_result"
    }
   ],
   "source": [
    "subs.median()  "
   ]
  },
  {
   "cell_type": "code",
   "execution_count": 33,
   "metadata": {},
   "outputs": [
    {
     "data": {
      "text/plain": [
       "62.6750230372527"
      ]
     },
     "execution_count": 33,
     "metadata": {},
     "output_type": "execute_result"
    }
   ],
   "source": [
    "subs.std()"
   ]
  },
  {
   "cell_type": "code",
   "execution_count": 34,
   "metadata": {},
   "outputs": [
    {
     "data": {
      "text/plain": [
       "33"
      ]
     },
     "execution_count": 34,
     "metadata": {},
     "output_type": "execute_result"
    }
   ],
   "source": [
    "subs.min()"
   ]
  },
  {
   "cell_type": "code",
   "execution_count": 35,
   "metadata": {},
   "outputs": [
    {
     "data": {
      "text/plain": [
       "396"
      ]
     },
     "execution_count": 35,
     "metadata": {},
     "output_type": "execute_result"
    }
   ],
   "source": [
    "subs.max()"
   ]
  },
  {
   "cell_type": "code",
   "execution_count": 36,
   "metadata": {},
   "outputs": [
    {
     "data": {
      "text/plain": [
       "0    Akshay Kumar\n",
       "Name: lead, dtype: object"
      ]
     },
     "execution_count": 36,
     "metadata": {},
     "output_type": "execute_result"
    }
   ],
   "source": [
    "movies.mode() "
   ]
  },
  {
   "cell_type": "code",
   "execution_count": 37,
   "metadata": {},
   "outputs": [
    {
     "data": {
      "text/plain": [
       "62.6750230372527"
      ]
     },
     "execution_count": 37,
     "metadata": {},
     "output_type": "execute_result"
    }
   ],
   "source": [
    "subs.std()"
   ]
  },
  {
   "cell_type": "code",
   "execution_count": 38,
   "metadata": {},
   "outputs": [
    {
     "data": {
      "text/plain": [
       "688.0024777222343"
      ]
     },
     "execution_count": 38,
     "metadata": {},
     "output_type": "execute_result"
    }
   ],
   "source": [
    "Kohli.var()"
   ]
  },
  {
   "cell_type": "code",
   "execution_count": 39,
   "metadata": {},
   "outputs": [
    {
     "data": {
      "text/plain": [
       "count    365.000000\n",
       "mean     135.643836\n",
       "std       62.675023\n",
       "min       33.000000\n",
       "25%       88.000000\n",
       "50%      123.000000\n",
       "75%      177.000000\n",
       "max      396.000000\n",
       "Name: Subscribers gained, dtype: float64"
      ]
     },
     "execution_count": 39,
     "metadata": {},
     "output_type": "execute_result"
    }
   ],
   "source": [
    "subs.describe()"
   ]
  },
  {
   "cell_type": "code",
   "execution_count": 40,
   "metadata": {},
   "outputs": [
    {
     "name": "stdout",
     "output_type": "stream",
     "text": [
      "<class 'pandas.core.series.Series'>\n",
      "RangeIndex: 365 entries, 0 to 364\n",
      "Series name: Subscribers gained\n",
      "Non-Null Count  Dtype\n",
      "--------------  -----\n",
      "365 non-null    int64\n",
      "dtypes: int64(1)\n",
      "memory usage: 3.0 KB\n"
     ]
    }
   ],
   "source": [
    "subs.info()"
   ]
  },
  {
   "cell_type": "markdown",
   "metadata": {},
   "source": [
    "## Series Indexing "
   ]
  },
  {
   "cell_type": "code",
   "execution_count": 41,
   "metadata": {},
   "outputs": [
    {
     "data": {
      "text/plain": [
       "12"
      ]
     },
     "execution_count": 41,
     "metadata": {},
     "output_type": "execute_result"
    }
   ],
   "source": [
    "# integer based indexing\n",
    "x=pd.Series([12,34,56,78,90,23,45,67,89,34])\n",
    "x[0] # and so on"
   ]
  },
  {
   "cell_type": "code",
   "execution_count": 42,
   "metadata": {},
   "outputs": [
    {
     "data": {
      "text/plain": [
       "movie\n",
       "Qaidi Band                           Aadar Jain\n",
       "Roar: Tigers of the Sundarbans     Aadil Chahal\n",
       "Lipstick Under My Burkha           Aahana Kumra\n",
       "Raat Gayi Baat Gayi?               Aamir Bashir\n",
       "Talaash: The Answer Lies Within      Aamir Khan\n",
       "Dangal (film)                        Aamir Khan\n",
       "Thugs of Hindostan                   Aamir Khan\n",
       "Dhoom 3                              Aamir Khan\n",
       "Name: lead, dtype: object"
      ]
     },
     "execution_count": 42,
     "metadata": {},
     "output_type": "execute_result"
    }
   ],
   "source": [
    "#Slicing \n",
    "movies.iloc[0:8]"
   ]
  },
  {
   "cell_type": "markdown",
   "metadata": {},
   "source": [
    "## Editing Series "
   ]
  },
  {
   "cell_type": "code",
   "execution_count": 43,
   "metadata": {},
   "outputs": [
    {
     "data": {
      "text/plain": [
       "Maths         23\n",
       "Science      100\n",
       "English       67\n",
       "History       89\n",
       "Geography     34\n",
       "Name: Marks, dtype: int64"
      ]
     },
     "execution_count": 43,
     "metadata": {},
     "output_type": "execute_result"
    }
   ],
   "source": [
    "# Using Indexing \n",
    "marks_series.iloc[1]=100\n",
    "marks_series"
   ]
  },
  {
   "cell_type": "code",
   "execution_count": 44,
   "metadata": {},
   "outputs": [
    {
     "data": {
      "text/plain": [
       "Maths         23\n",
       "Science      100\n",
       "English       67\n",
       "History       89\n",
       "Geography     34\n",
       "Physics       90\n",
       "Name: Marks, dtype: int64"
      ]
     },
     "execution_count": 44,
     "metadata": {},
     "output_type": "execute_result"
    }
   ],
   "source": [
    "# what if an Index does not exist  \n",
    "marks_series.loc['Physics']=90\n",
    "marks_series \n",
    "# it will create a new index and assign the value to it"
   ]
  },
  {
   "cell_type": "code",
   "execution_count": 45,
   "metadata": {},
   "outputs": [
    {
     "data": {
      "text/plain": [
       "Maths        23\n",
       "Science      10\n",
       "English      10\n",
       "History      89\n",
       "Geography    34\n",
       "Physics      90\n",
       "Name: Marks, dtype: int64"
      ]
     },
     "execution_count": 45,
     "metadata": {},
     "output_type": "execute_result"
    }
   ],
   "source": [
    "# Using Slicing\n",
    "marks_series.iloc[1:3]=[10,10]\n",
    "marks_series"
   ]
  },
  {
   "cell_type": "markdown",
   "metadata": {},
   "source": [
    "## Series with Python Functionalities "
   ]
  },
  {
   "cell_type": "code",
   "execution_count": 46,
   "metadata": {},
   "outputs": [
    {
     "name": "stdout",
     "output_type": "stream",
     "text": [
      "365\n",
      "<class 'pandas.core.series.Series'>\n",
      "['T', '_AXIS_LEN', '_AXIS_ORDERS', '_AXIS_TO_AXIS_NUMBER', '_HANDLED_TYPES', '__abs__', '__add__', '__and__', '__annotations__', '__array__', '__array_priority__', '__array_ufunc__', '__bool__', '__class__', '__column_consortium_standard__', '__contains__', '__copy__', '__deepcopy__', '__delattr__', '__delitem__', '__dict__', '__dir__', '__divmod__', '__doc__', '__eq__', '__finalize__', '__float__', '__floordiv__', '__format__', '__ge__', '__getattr__', '__getattribute__', '__getitem__', '__getstate__', '__gt__', '__hash__', '__iadd__', '__iand__', '__ifloordiv__', '__imod__', '__imul__', '__init__', '__init_subclass__', '__int__', '__invert__', '__ior__', '__ipow__', '__isub__', '__iter__', '__itruediv__', '__ixor__', '__le__', '__len__', '__lt__', '__matmul__', '__mod__', '__module__', '__mul__', '__ne__', '__neg__', '__new__', '__nonzero__', '__or__', '__pandas_priority__', '__pos__', '__pow__', '__radd__', '__rand__', '__rdivmod__', '__reduce__', '__reduce_ex__', '__repr__', '__rfloordiv__', '__rmatmul__', '__rmod__', '__rmul__', '__ror__', '__round__', '__rpow__', '__rsub__', '__rtruediv__', '__rxor__', '__setattr__', '__setitem__', '__setstate__', '__sizeof__', '__str__', '__sub__', '__subclasshook__', '__truediv__', '__weakref__', '__xor__', '_accessors', '_accum_func', '_agg_examples_doc', '_agg_see_also_doc', '_align_for_op', '_align_frame', '_align_series', '_append', '_arith_method', '_as_manager', '_attrs', '_binop', '_cacher', '_can_hold_na', '_check_inplace_and_allows_duplicate_labels', '_check_is_chained_assignment_possible', '_check_label_or_level_ambiguity', '_check_setitem_copy', '_clear_item_cache', '_clip_with_one_bound', '_clip_with_scalar', '_cmp_method', '_consolidate', '_consolidate_inplace', '_construct_axes_dict', '_construct_result', '_constructor', '_constructor_expanddim', '_constructor_expanddim_from_mgr', '_constructor_from_mgr', '_data', '_deprecate_downcast', '_dir_additions', '_dir_deletions', '_drop_axis', '_drop_labels_or_levels', '_duplicated', '_expanddim_from_mgr', '_find_valid_index', '_flags', '_flex_method', '_from_mgr', '_get_axis', '_get_axis_name', '_get_axis_number', '_get_axis_resolvers', '_get_block_manager_axis', '_get_bool_data', '_get_cacher', '_get_cleaned_column_resolvers', '_get_index_resolvers', '_get_label_or_level_values', '_get_numeric_data', '_get_rows_with_mask', '_get_value', '_get_values_tuple', '_get_with', '_getitem_slice', '_gotitem', '_hidden_attrs', '_indexed_same', '_info_axis', '_info_axis_name', '_info_axis_number', '_init_dict', '_init_mgr', '_inplace_method', '_internal_names', '_internal_names_set', '_is_cached', '_is_copy', '_is_label_or_level_reference', '_is_label_reference', '_is_level_reference', '_is_mixed_type', '_is_view', '_is_view_after_cow_rules', '_item_cache', '_ixs', '_logical_func', '_logical_method', '_map_values', '_maybe_update_cacher', '_memory_usage', '_metadata', '_mgr', '_min_count_stat_function', '_name', '_needs_reindex_multi', '_pad_or_backfill', '_protect_consolidate', '_reduce', '_references', '_reindex_axes', '_reindex_indexer', '_reindex_multi', '_reindex_with_indexers', '_rename', '_replace_single', '_repr_data_resource_', '_repr_latex_', '_reset_cache', '_reset_cacher', '_set_as_cached', '_set_axis', '_set_axis_name', '_set_axis_nocheck', '_set_is_copy', '_set_labels', '_set_name', '_set_value', '_set_values', '_set_with', '_set_with_engine', '_shift_with_freq', '_slice', '_stat_function', '_stat_function_ddof', '_take_with_is_copy', '_to_latex_via_styler', '_typ', '_update_inplace', '_validate_dtype', '_values', '_where', 'abs', 'add', 'add_prefix', 'add_suffix', 'agg', 'aggregate', 'align', 'all', 'any', 'apply', 'argmax', 'argmin', 'argsort', 'array', 'asfreq', 'asof', 'astype', 'at', 'at_time', 'attrs', 'autocorr', 'axes', 'backfill', 'between', 'between_time', 'bfill', 'bool', 'case_when', 'clip', 'combine', 'combine_first', 'compare', 'convert_dtypes', 'copy', 'corr', 'count', 'cov', 'cummax', 'cummin', 'cumprod', 'cumsum', 'describe', 'diff', 'div', 'divide', 'divmod', 'dot', 'drop', 'drop_duplicates', 'droplevel', 'dropna', 'dtype', 'dtypes', 'duplicated', 'empty', 'eq', 'equals', 'ewm', 'expanding', 'explode', 'factorize', 'ffill', 'fillna', 'filter', 'first', 'first_valid_index', 'flags', 'floordiv', 'ge', 'get', 'groupby', 'gt', 'hasnans', 'head', 'hist', 'iat', 'idxmax', 'idxmin', 'iloc', 'index', 'infer_objects', 'info', 'interpolate', 'is_monotonic_decreasing', 'is_monotonic_increasing', 'is_unique', 'isin', 'isna', 'isnull', 'item', 'items', 'keys', 'kurt', 'kurtosis', 'last', 'last_valid_index', 'le', 'list', 'loc', 'lt', 'map', 'mask', 'max', 'mean', 'median', 'memory_usage', 'min', 'mod', 'mode', 'mul', 'multiply', 'name', 'nbytes', 'ndim', 'ne', 'nlargest', 'notna', 'notnull', 'nsmallest', 'nunique', 'pad', 'pct_change', 'pipe', 'plot', 'pop', 'pow', 'prod', 'product', 'quantile', 'radd', 'rank', 'ravel', 'rdiv', 'rdivmod', 'reindex', 'reindex_like', 'rename', 'rename_axis', 'reorder_levels', 'repeat', 'replace', 'resample', 'reset_index', 'rfloordiv', 'rmod', 'rmul', 'rolling', 'round', 'rpow', 'rsub', 'rtruediv', 'sample', 'searchsorted', 'sem', 'set_axis', 'set_flags', 'shape', 'shift', 'size', 'skew', 'sort_index', 'sort_values', 'squeeze', 'std', 'struct', 'sub', 'subtract', 'sum', 'swapaxes', 'swaplevel', 'tail', 'take', 'to_clipboard', 'to_csv', 'to_dict', 'to_excel', 'to_frame', 'to_hdf', 'to_json', 'to_latex', 'to_list', 'to_markdown', 'to_numpy', 'to_period', 'to_pickle', 'to_sql', 'to_string', 'to_timestamp', 'to_xarray', 'transform', 'transpose', 'truediv', 'truncate', 'tz_convert', 'tz_localize', 'unique', 'unstack', 'update', 'value_counts', 'values', 'var', 'view', 'where', 'xs']\n",
      "[33, 33, 35, 37, 39, 40, 40, 40, 40, 42, 42, 43, 44, 44, 44, 45, 46, 46, 48, 49, 49, 49, 49, 50, 50, 50, 51, 54, 56, 56, 56, 56, 57, 61, 62, 64, 65, 65, 66, 66, 66, 66, 67, 68, 70, 70, 70, 71, 71, 72, 72, 72, 72, 72, 73, 74, 74, 75, 76, 76, 76, 76, 77, 77, 78, 78, 78, 79, 79, 80, 80, 80, 81, 81, 82, 82, 83, 83, 83, 84, 84, 84, 85, 86, 86, 86, 87, 87, 87, 87, 88, 88, 88, 88, 88, 89, 89, 89, 90, 90, 90, 90, 91, 92, 92, 92, 93, 93, 93, 93, 95, 95, 96, 96, 96, 96, 97, 97, 98, 98, 99, 99, 100, 100, 100, 101, 101, 101, 102, 102, 103, 103, 104, 104, 104, 105, 105, 105, 105, 105, 105, 105, 105, 105, 108, 108, 108, 108, 108, 108, 109, 109, 110, 110, 110, 111, 111, 112, 113, 113, 113, 114, 114, 114, 114, 115, 115, 115, 115, 117, 117, 117, 118, 118, 119, 119, 119, 119, 120, 122, 123, 123, 123, 123, 123, 124, 125, 126, 127, 128, 128, 129, 130, 131, 131, 132, 132, 134, 134, 134, 135, 135, 136, 136, 136, 137, 138, 138, 138, 139, 140, 144, 145, 146, 146, 146, 146, 147, 149, 150, 150, 150, 150, 151, 152, 152, 152, 153, 153, 153, 154, 154, 154, 155, 155, 156, 156, 156, 156, 157, 157, 157, 157, 158, 158, 159, 159, 160, 160, 160, 160, 162, 164, 166, 167, 167, 168, 170, 170, 170, 170, 171, 172, 172, 173, 173, 173, 174, 174, 175, 175, 176, 176, 177, 178, 179, 179, 180, 180, 180, 182, 183, 183, 183, 184, 184, 184, 185, 185, 185, 185, 186, 186, 186, 188, 189, 190, 190, 192, 192, 192, 196, 196, 196, 197, 197, 202, 202, 202, 203, 204, 206, 207, 209, 210, 210, 211, 212, 213, 214, 216, 219, 220, 221, 221, 222, 222, 224, 225, 225, 226, 227, 228, 229, 230, 231, 233, 236, 236, 237, 241, 243, 244, 245, 247, 249, 254, 254, 258, 259, 259, 261, 261, 265, 267, 268, 269, 276, 276, 290, 295, 301, 306, 312, 396]\n",
      "396\n",
      "33\n"
     ]
    }
   ],
   "source": [
    "#len/type/dir/sorted/max/min \n",
    "print(len(subs))\n",
    "print(type(marks_series))\n",
    "print(dir(subs))\n",
    "print(sorted(subs))\n",
    "print(max(subs))\n",
    "print(min(subs))"
   ]
  },
  {
   "cell_type": "code",
   "execution_count": 47,
   "metadata": {},
   "outputs": [
    {
     "data": {
      "text/plain": [
       "0       48.0\n",
       "1       57.0\n",
       "2       40.0\n",
       "3       43.0\n",
       "4       44.0\n",
       "       ...  \n",
       "360    231.0\n",
       "361    226.0\n",
       "362    155.0\n",
       "363    144.0\n",
       "364    172.0\n",
       "Name: Subscribers gained, Length: 365, dtype: float64"
      ]
     },
     "execution_count": 47,
     "metadata": {},
     "output_type": "execute_result"
    }
   ],
   "source": [
    "# type conversion \n",
    "subs.astype(float)"
   ]
  },
  {
   "cell_type": "code",
   "execution_count": 50,
   "metadata": {},
   "outputs": [
    {
     "data": {
      "text/plain": [
       "True"
      ]
     },
     "execution_count": 50,
     "metadata": {},
     "output_type": "execute_result"
    }
   ],
   "source": [
    "#membership operators \n",
    "'Sallu Ki Shaadi' in movies"
   ]
  },
  {
   "cell_type": "code",
   "execution_count": 53,
   "metadata": {},
   "outputs": [
    {
     "data": {
      "text/plain": [
       "True"
      ]
     },
     "execution_count": 53,
     "metadata": {},
     "output_type": "execute_result"
    }
   ],
   "source": [
    "'Aamir Khan' in movies #By default in operator searches in the index \n",
    "# if we want to search whether the given string is present in the value of not then we can specify movies.values \n",
    "'Aamir Khan' in movies.values"
   ]
  },
  {
   "cell_type": "code",
   "execution_count": 57,
   "metadata": {},
   "outputs": [
    {
     "name": "stdout",
     "output_type": "stream",
     "text": [
      "Qaidi Band\n",
      "Roar: Tigers of the Sundarbans\n",
      "Lipstick Under My Burkha\n",
      "Raat Gayi Baat Gayi?\n",
      "Talaash: The Answer Lies Within\n",
      "Dangal (film)\n",
      "Thugs of Hindostan\n",
      "Dhoom 3\n",
      "Fanaa (2006 film)\n",
      "Ghajini (2008 film)\n",
      "Rang De Basanti\n",
      "PK (film)\n",
      "Mangal Pandey: The Rising\n",
      "3 Idiots\n",
      "Buddha in a Traffic Jam\n",
      "Chillar Party\n",
      "Ssukh\n",
      "Umrika\n",
      "One by Two (2014 film)\n",
      "Oye Lucky! Lucky Oye!\n",
      "Ahista Ahista (2006 film)\n",
      "Socha Na Tha\n",
      "Ek Chalis Ki Last Local\n",
      "Nanu Ki Jaanu\n",
      "Manorama Six Feet Under\n",
      "Mard Ko Dard Nahi Hota\n",
      "Dostana (2008 film)\n",
      "Jhoom Barabar Jhoom\n",
      "Raavan\n",
      "Run (2004 film)\n",
      "Dum Maaro Dum (film)\n",
      "Bunty Aur Babli\n",
      "Dhoom\n",
      "Game (2011 film)\n",
      "Mumbai Se Aaya Mera Dost\n",
      "Bluffmaster!\n",
      "Love Sonia\n",
      "Contract (2008 film)\n",
      "Heartless (2014 film)\n",
      "Dehraadun Diary\n",
      "Luckhnowi Ishq\n",
      "Dobaara: See Your Evil\n",
      "Hotel Salvation\n",
      "Shaapit\n",
      "Fitoor\n",
      "Daawat-e-Ishq\n",
      "Aashiqui 2\n",
      "Kaalo\n",
      "Life Mein Kabhie Kabhiee\n",
      "Masti (2004 film)\n",
      "Koi Aap Sa\n",
      "Muskaan\n",
      "De Taali\n",
      "Footpath (2003 film)\n",
      "Aloo Chaat (film)\n",
      "Ankahee (2006 film)\n",
      "Red: The Dark Side\n",
      "Suno Sasurjee\n",
      "Jaane Hoga Kya\n",
      "Summer 2007\n",
      "Ship of Theseus (film)\n",
      "3 Storeys\n",
      "Kaashi in Search of Ganga\n",
      "Jazbaa\n",
      "Umrao Jaan (2006 film)\n",
      "Kuch Naa Kaho\n",
      "U Me Aur Hum\n",
      "Drishyam (2015 film)\n",
      "Golmaal Again\n",
      "Himmatwala (2013 film)\n",
      "Golmaal Returns\n",
      "Golmaal: Fun Unlimited\n",
      "Raid (2018 film)\n",
      "Raincoat (film)\n",
      "Rascals (2011 film)\n",
      "Halla Bol\n",
      "Zameer: The Fire Within\n",
      "Dil Toh Baccha Hai Ji\n",
      "Blackmail (2005 film)\n",
      "Zameen (2003 film)\n",
      "Yuva\n",
      "Cash (2007 film)\n",
      "Bhoot (film)\n",
      "Tango Charlie\n",
      "Omkara (2006 film)\n",
      "Chori Chori (2003 film)\n",
      "Aakrosh (2010 film)\n",
      "Once Upon a Time in Mumbaai\n",
      "Kaal (2005 film)\n",
      "Shikhar (film)\n",
      "Apaharan\n",
      "Company (film)\n",
      "Main Aisa Hi Hoon\n",
      "Parwana (2003 film)\n",
      "De De Pyaar De\n",
      "Son of Sardaar\n",
      "Toonpur Ka Super Hero\n",
      "Gangaajal\n",
      "Total Dhamaal\n",
      "Singham\n",
      "Dharti Kahe Pukar Ke (2006 film)\n",
      "Shivaay\n",
      "Qayamat: City Under Threat\n",
      "Sunday (2008 film)\n",
      "Malik Ek\n",
      "Calendar Girls (2015 film)\n",
      "Bloody Isshq\n",
      "Jaane Kyun De Yaaron\n",
      "Popcorn Khao! Mast Ho Jao\n",
      "Alag\n",
      "Humko Deewana Kar Gaye\n",
      "Airlift (film)\n",
      "Singh Is Bliing\n",
      "Singh Is Kinng\n",
      "Insan\n",
      "Desi Boyz\n",
      "Mere Jeevan Saathi (2006 film)\n",
      "Police Force: An Inside Story\n",
      "Deewane Huye Paagal\n",
      "Toilet: Ek Prem Katha\n",
      "Action Replayy\n",
      "Phir Hera Pheri\n",
      "De Dana Dan\n",
      "Special 26\n",
      "Meri Biwi Ka Jawaab Nahin\n",
      "Mission Mangal\n",
      "Thank You (2011 film)\n",
      "Boss (2013 Hindi film)\n",
      "Brothers (2015 film)\n",
      "Namastey London\n",
      "Khatta Meetha (2010 film)\n",
      "Aitraaz\n",
      "Tees Maar Khan (2010 film)\n",
      "Tashan (film)\n",
      "The Shaukeens\n",
      "Kesari (film)\n",
      "Bhagam Bhag\n",
      "Once Upon ay Time in Mumbai Dobaara!\n",
      "Joker (2012 film)\n",
      "Bhool Bhulaiyaa\n",
      "Housefull 4\n",
      "Garam Masala (2005 film)\n",
      "Good Newwz\n",
      "Andaaz\n",
      "Entertainment (2014 film)\n",
      "Andaaz\n",
      "Holiday: A Soldier Is Never Off Duty\n",
      "Housefull 2\n",
      "Dosti: Friends Forever\n",
      "Awara Paagal Deewana\n",
      "Baby (2015 Hindi film)\n",
      "Gabbar Is Back\n",
      "Welcome (2007 film)\n",
      "Gold (2018 film)\n",
      "Blue (2009 film)\n",
      "Housefull (2010 film)\n",
      "Gabbar Is Back\n",
      "Hatya (2004 film)\n",
      "Pizza (2014 film)\n",
      "Isi Life Mein\n",
      "Section 375\n",
      "36 China Town\n",
      "Aap Ki Khatir (2006 film)\n",
      "Hulchul (2004 film)\n",
      "Gandhi My Father\n",
      "Hungama (2003 film)\n",
      "Shaadi Se Pehle\n",
      "Bhola in Bollywood\n",
      "Amavas\n",
      "Chashme Baddoor (2013 film)\n",
      "Tere Bin Laden\n",
      "Total Siyapaa\n",
      "Raazi\n",
      "Highway (2014 Hindi film)\n",
      "Dear Zindagi\n",
      "Student of the Year\n",
      "Mumbhai Connection\n",
      "Dhund (2003 film)\n",
      "Jattu Engineer\n",
      "Iqraar by Chance\n",
      "Kaise Kahoon Ke... Pyaar Hai\n",
      "Jack and Dil\n",
      "Haal-e-Dil\n",
      "Dil Jo Bhi Kahey...\n",
      "God Tussi Great Ho\n",
      "Boom (film)\n",
      "Ki & Ka\n",
      "Bol Bachchan\n",
      "Shamitabh\n",
      "Kyun! Ho Gaya Na...\n",
      "Shootout at Lokhandwala\n",
      "Dev (2004 film)\n",
      "Teen Patti (film)\n",
      "Ek Ajnabee\n",
      "Te3n\n",
      "Rann (film)\n",
      "Family (2006 film)\n",
      "Cheeni Kum\n",
      "Nishabd\n",
      "Kabhi Alvida Naa Kehna\n",
      "Kaante\n",
      "Sarkar 3\n",
      "Deewaar (2004 film)\n",
      "Paa (film)\n",
      "Sarkar Raj\n",
      "Darna Zaroori Hai\n",
      "Satyagraha (film)\n",
      "Khakee\n",
      "Eklavya: The Royal Guard\n",
      "Sarkar (2005 film)\n",
      "Bhoothnath Returns\n",
      "Baabul (2006 film)\n",
      "Bhoothnath\n",
      "Armaan (2003 film)\n",
      "Viruddh... Family Comes First\n",
      "Aarakshan\n",
      "Bbuddah... Hoga Terra Baap\n",
      "Baghban (2003 film)\n",
      "Aankhen (2002 film)\n",
      "Aetbaar\n",
      "Badla (2019 film)\n",
      "Begum Jaan\n",
      "Ab Tumhare Hawale Watan Saathiyo\n",
      "Aladin (film)\n",
      "The Last Lear\n",
      "Black (2005 film)\n",
      "Waqt: The Race Against Time\n",
      "Aag (2007 film)\n",
      "Rajma Chawal\n",
      "Happy Husbands (2011 film)\n",
      "Hava Aney Dey\n",
      "Bewafaa (2005 film)\n",
      "Calcutta Mail\n",
      "Mubarakan\n",
      "Race 3\n",
      "Dil Dhadakne Do\n",
      "Chocolate (2005 film)\n",
      "My Wife's Murder\n",
      "Musafir (2004 film)\n",
      "No Entry\n",
      "Tezz\n",
      "Welcome Back (film)\n",
      "Baat Bann Gayi\n",
      "Ek Se Bure Do\n",
      "Manjunath (film)\n",
      "Right Here Right Now (film)\n",
      "Badlapur Boys\n",
      "Yeh Hai Bakrapur\n",
      "Naach (2004 film)\n",
      "Main Madhuri Dixit Banna Chahti Hoon\n",
      "Love Shagun\n",
      "Chase (2010 film)\n",
      "Khosla Ka Ghosla\n",
      "Ekkees Toppon Ki Salaami\n",
      "Mr. Bhatti on Chutti\n",
      "Yeh Mera India\n",
      "Maine Gandhi Ko Nahin Mara\n",
      "Shukriya: Till Death Do Us Apart\n",
      "Meerabai Not Out\n",
      "The Accidental Prime Minister (film)\n",
      "Hum Hai Raahi Car Ke\n",
      "Sahi Dhandhe Galat Bande\n",
      "Dirty Politics (film)\n",
      "One Day: Justice Delivered\n",
      "Singham Returns\n",
      "Phillauri (film)\n",
      "NH10 (film)\n",
      "Sui Dhaaga\n",
      "Yeh Khula Aasmaan\n",
      "Bubble Gum (film)\n",
      "Prem Kaa Game\n",
      "Dus Kahaniyaan\n",
      "Jeena Isi Ka Naam Hai (film)\n",
      "Married 2 America\n",
      "2 States (2014 film)\n",
      "Aurangzeb (film)\n",
      "Ishaqzaade\n",
      "Namaste England\n",
      "India's Most Wanted (film)\n",
      "Tevar\n",
      "Brij Mohan Amar Rahe\n",
      "Coffee Bloom\n",
      "Humko Tumse Pyaar Hai\n",
      "Vaada (film)\n",
      "Chakravyuh (2012 film)\n",
      "Familywala\n",
      "Daddy (2017 film)\n",
      "Roy (film)\n",
      "Rock On!!\n",
      "Dil Ka Rishta\n",
      "Yakeen (2005 film)\n",
      "Asambhav\n",
      "Inkaar (2013 film)\n",
      "Elaan (2005 film)\n",
      "I See You (2006 film)\n",
      "Fox (film)\n",
      "Lekar Hum Deewana Dil\n",
      "Running Shaadi\n",
      "Sehar\n",
      "F.A.L.T.U\n",
      "Kuchh Meetha Ho Jaye\n",
      "Hum Tum Aur Ghost\n",
      "Jolly LLB\n",
      "Kisse Pyaar Karoon\n",
      "Fraud Saiyaan\n",
      "Waisa Bhi Hota Hai Part II\n",
      "Guddu Rangeela\n",
      "Welcome 2 Karachi\n",
      "Aanch\n",
      "Mirch\n",
      "Dear Dad (film)\n",
      "Lucky Kabootar\n",
      "Thoda Tum Badlo Thoda Hum\n",
      "Chaahat – Ek Nasha\n",
      "Dreams (2006 film)\n",
      "Mai (2013 film)\n",
      "Shab (film)\n",
      "Inteha (2003 film)\n",
      "Super Model (film)\n",
      "Nirdosh\n",
      "Cigarette Ki Tarah\n",
      "MSG: The Warrior Lion Heart\n",
      "Monica (film)\n",
      "Shabnam Mausi\n",
      "Balwinder Singh Famous Ho Gaya\n",
      "Ata Pata Laapata\n",
      "Chal Chala Chal\n",
      "Fruit and Nut (film)\n",
      "Om (2003 film)\n",
      "88 Antop Hill\n",
      "Bumm Bumm Bole\n",
      "NH-8 Road to Nidhivan\n",
      "Fredrick (film)\n",
      "Laila Majnu (2018 film)\n",
      "Double Cross (2005 film)\n",
      "Dor (film)\n",
      "Bala (2019 film)\n",
      "Nautanki Saala!\n",
      "Shubh Mangal Saavdhan\n",
      "Dream Girl (2019 film)\n",
      "Dum Laga Ke Haisha\n",
      "Article 15 (film)\n",
      "Badhaai Ho\n",
      "Meri Pyaari Bindu\n",
      "Andhadhun\n",
      "Vicky Donor\n",
      "Bareilly Ki Barfi\n",
      "Bewakoofiyaan\n",
      "Hawayein\n",
      "Soch Lo\n",
      "Main Aur Mr. Riight\n",
      "22 Yards\n",
      "P Se Pyaar F Se Faraar\n",
      "Thoda Lutf Thoda Ishq\n",
      "Ek Second... Jo Zindagi Badal De?\n",
      "From Sydney with Love\n",
      "Jodi Breakers\n",
      "Jism (2003 film)\n",
      "Creature 3D\n",
      "Pankh\n",
      "Alone (2015 Hindi film)\n",
      "Madhoshi\n",
      "Chehraa\n",
      "Corporate (2006 film)\n",
      "Apna Sapna Money Money\n",
      "Naqaab\n",
      "Barsaat (2005 film)\n",
      "Chamku\n",
      "Ek: The Power of One\n",
      "Vaada Raha\n",
      "Help (film)\n",
      "Bardaasht\n",
      "Shakalaka Boom Boom\n",
      "Kismat (2004 film)\n",
      "Jhalki\n",
      "PM Narendra Modi\n",
      "Santa Banta Pvt Ltd\n",
      "Well Done Abba\n",
      "Delhi Safari\n",
      "Prague (2013 film)\n",
      "MSG-2 The Messenger\n",
      "Miley Naa Miley Hum\n",
      "Jai Chiranjeeva\n",
      "Bioscopewala\n",
      "Zokkomon\n",
      "Taare Zameen Par\n",
      "Chor Chor Super Chor\n",
      "Not a Love Story (2011 film)\n",
      "Gone Kesh\n",
      "Piku\n",
      "Finding Fanny\n",
      "Break Ke Baad\n",
      "Chennai Express\n",
      "Raabta (film)\n",
      "Padmaavat\n",
      "Yeh Dooriyan\n",
      "Memories in March\n",
      "Mr Prime Minister\n",
      "Chargesheet (film)\n",
      "Raanjhanaa\n",
      "Tell Me O Kkhuda\n",
      "Second Hand Husband\n",
      "Apne\n",
      "Yamla Pagla Deewana: Phir Se\n",
      "Life in a... Metro\n",
      "Johnny Gaddaar\n",
      "Nawabzaade\n",
      "Koi Mere Dil Mein Hai\n",
      "Happy Bhag Jayegi\n",
      "Wedding Pullav\n",
      "Arjun Patiala\n",
      "Gollu Aur Pappu\n",
      "Bhram\n",
      "Ishq Hai Tumse\n",
      "Anamika (2008 film)\n",
      "Raaz (2002 film)\n",
      "Gumnaam – The Mystery\n",
      "Insaaf: The Justice\n",
      "Dude Where's the Party?\n",
      "Nanhe Jaisalmer\n",
      "The Pink Mirror\n",
      "Kahin Hai Mera Pyar\n",
      "Wake Up India\n",
      "Zeher\n",
      "The Train (2007 film)\n",
      "Dil Diya Hai\n",
      "Crook (film)\n",
      "Awarapan\n",
      "Tumsa Nahin Dekha: A Love Story\n",
      "Aksar\n",
      "Rush (2012 film)\n",
      "Jannat (film)\n",
      "Jawani Diwani: A Youthful Joyride\n",
      "Mr. X (2015 film)\n",
      "Raaz: Reboot\n",
      "Aashiq Banaya Aapne\n",
      "Tum Mile\n",
      "Ungli\n",
      "Raja Natwarlal\n",
      "Azhar (film)\n",
      "Ek Thi Daayan\n",
      "Shanghai (2012 film)\n",
      "Why Cheat India\n",
      "Murder 2\n",
      "Just Married (2007 film)\n",
      "Shaadi No. 1\n",
      "Darling (2007 Indian film)\n",
      "Pyare Mohan\n",
      "Jai Veeru\n",
      "Acid Factory\n",
      "Ek Khiladi Ek Haseena (film)\n",
      "Khushi (2003 Hindi film)\n",
      "Shaadi Ke Side Effects\n",
      "Luck by Chance\n",
      "Rock On 2\n",
      "Bhaag Milkha Bhaag\n",
      "Lucknow Central\n",
      "Accident on Hill Road\n",
      "Children of War (2014 film)\n",
      "Listen... Amaya\n",
      "Lahore (film)\n",
      "Janasheen\n",
      "Shirin Farhad Ki Toh Nikal Padi\n",
      "Hey Bro\n",
      "Risknamaa\n",
      "Go (2007 film)\n",
      "Yeh Hai India\n",
      "Kuchh Bheege Alfaaz\n",
      "Soni (film)\n",
      "Loveshhuda\n",
      "Om-Dar-B-Dar\n",
      "Naughty @ 40\n",
      "Jahan Jaaeyega Hamen Paaeyega\n",
      "Sandwich (2006 film)\n",
      "Money Hai Toh Honey Hai\n",
      "FryDay\n",
      "Aa Gaya Hero\n",
      "Life Partner\n",
      "Turning 30\n",
      "Fatso!\n",
      "Hello Darling\n",
      "Hunterrr\n",
      "I Am Kalam\n",
      "Sukhmani: Hope for Life\n",
      "Waris Shah: Ishq Daa Waaris\n",
      "Khamoshiyan\n",
      "Hind Ka Napak Ko Jawab: MSG Lion Heart 2\n",
      "MSG: The Messenger\n",
      "Jalpari: The Desert Mermaid\n",
      "Victory (2009 film)\n",
      "What's Your Raashee?\n",
      "Dishkiyaoon\n",
      "Love Story 2050\n",
      "Jigariyaa\n",
      "Mirzya (film)\n",
      "Bhavesh Joshi Superhero\n",
      "Khel Toh Ab Shuru Hoga\n",
      "Mittal v/s Mittal\n",
      "Ek Thi Rani Aisi Bhi\n",
      "Calapor (film)\n",
      "Sweetiee Weds NRI\n",
      "Dil Jo Na Keh Saka\n",
      "Login (film)\n",
      "Khwahish\n",
      "Karzzzz\n",
      "The Xposé\n",
      "Damadamm!\n",
      "Aap Kaa Surroor\n",
      "Aasma: The Sky Is the Limit\n",
      "Main Prem Ki Diwani Hoon\n",
      "Guzaarish (film)\n",
      "Kites (film)\n",
      "Super 30 (film)\n",
      "Mohenjo Daro (film)\n",
      "Jodhaa Akbar\n",
      "Bang Bang!\n",
      "Agneepath (2012 film)\n",
      "Dhoom 2\n",
      "Zindagi Na Milegi Dobara\n",
      "Lakshya (film)\n",
      "Kaabil\n",
      "Viceroy's House (film)\n",
      "Rustom (film)\n",
      "Dil Dosti Etc\n",
      "Gori Tere Pyaar Mein\n",
      "Matru Ki Bijlee Ka Mandola\n",
      "I Hate Luv Storys\n",
      "Mere Brother Ki Dulhan\n",
      "Delhi Belly (film)\n",
      "Firaaq\n",
      "Ya Rab\n",
      "Dilliwali Zaalim Girlfriend\n",
      "Apna Asmaan\n",
      "Dil Kabaddi\n",
      "Hindi Medium\n",
      "Rog\n",
      "The Killer (2006 film)\n",
      "Paan Singh Tomar (film)\n",
      "Talvar (film)\n",
      "Madaari\n",
      "Qarib Qarib Singlle\n",
      "The Lunchbox\n",
      "Qissa (film)\n",
      "Billu\n",
      "Karwaan\n",
      "Maqbool\n",
      "Shabri\n",
      "Ek Vivaah... Aisa Bhi\n",
      "Girlfriend (2004 film)\n",
      "Dhadak\n",
      "Beyond the Clouds (2017 film)\n",
      "Aashiqui.in\n",
      "Darwaaza Bandh Rakho\n",
      "Bhoot Returns\n",
      "Paltan (film)\n",
      "Hari Puttar: A Comedy of Terrors\n",
      "Baaz: A Bird in Danger\n",
      "Dobara\n",
      "Kisaan\n",
      "Bhoot Unkle\n",
      "Ajab Gazabb Love\n",
      "Youngistaan\n",
      "Mitron\n",
      "Rangrezz\n",
      "Saaho\n",
      "Bangistan\n",
      "Staying Alive (2012 film)\n",
      "Meeruthiya Gangsters\n",
      "My Bollywood Bride\n",
      "Chetna: The Excitement\n",
      "Jajantaram Mamantaram\n",
      "Hate Story 2\n",
      "Sunglass (film)\n",
      "Flat 211\n",
      "Drona (2008 film)\n",
      "Indian Babu\n",
      "Blood Brothers (2007 Indian film)\n",
      "Zamaanat\n",
      "Prateeksha\n",
      "Ek Kahani Julie Ki\n",
      "Charas (2004 film)\n",
      "Shortcut Safari\n",
      "Umar (film)\n",
      "Hastey Hastey\n",
      "Saheb Biwi Aur Gangster\n",
      "Shorgul\n",
      "Saheb Biwi Aur Gangster Returns\n",
      "Chhodon Naa Yaar\n",
      "Fugly (film)\n",
      "Agnipankh\n",
      "Darr @ the Mall\n",
      "Family of Thakurganj\n",
      "Strangers (2007 Hindi film)\n",
      "Phamous\n",
      "Haasil\n",
      "A Flat (film)\n",
      "Dishoom\n",
      "Madras Cafe\n",
      "Kabul Express\n",
      "Jhootha Hi Sahi\n",
      "Force 2\n",
      "Saaya (2003 film)\n",
      "Force (2011 film)\n",
      "Paap\n",
      "Karam (film)\n",
      "Goal (2007 Hindi film)\n",
      "Batla House\n",
      "Parmanu: The Story of Pokhran\n",
      "No Smoking (2007 film)\n",
      "Little Zizou\n",
      "Aashayein\n",
      "Satyameva Jayate (2018 film)\n",
      "Rocky Handsome\n",
      "New York (2009 film)\n",
      "Love in Bombay\n",
      "Heyy Babyy\n",
      "Kash Aap Hamare Hote\n",
      "Bas Ek Pal\n",
      "7½ Phere\n",
      "Krazzy 4\n",
      "I Am (2010 Indian film)\n",
      "Main Krishna Hoon\n",
      "Rakhtbeej\n",
      "Ragini MMS\n",
      "Do Lafzon Ki Kahani (film)\n",
      "Helicopter Eela\n",
      "The Namesake (film)\n",
      "Ribbon (film)\n",
      "Margarita with a Straw\n",
      "Shaitan (film)\n",
      "Jurm (2005 film)\n",
      "Vishwaroopam\n",
      "Deshdrohi\n",
      "Rangoon (2017 Hindi film)\n",
      "Judgementall Hai Kya\n",
      "Simran (film)\n",
      "Revolver Rani\n",
      "Raaz: The Mystery Continues\n",
      "Gangster (2006 film)\n",
      "Manikarnika: The Queen of Jhansi\n",
      "Tanu Weds Manu: Returns\n",
      "Rajjo\n",
      "Queen (2014 film)\n",
      "Woh Lamhe...\n",
      "Tanu Weds Manu: Returns\n",
      "Station (2014 film)\n",
      "Koyelaanchal\n",
      "Dil Pardesi Ho Gayaa\n",
      "Kis Kisko Pyaar Karoon\n",
      "Firangi\n",
      "Pal Pal Dil Ke Paas\n",
      "Horror Story (film)\n",
      "Sadda Adda\n",
      "Hume Tumse Pyaar Kitna\n",
      "Mumbai 125 KM\n",
      "Chup Chup Ke\n",
      "Fida\n",
      "Ek Main Aur Ekk Tu\n",
      "Heroine (2012 film)\n",
      "Milenge Milenge\n",
      "Chameli (film)\n",
      "Agent Vinod (2012 film)\n",
      "Dangerous Ishhq\n",
      "Pyaar Ka Punchnama 2\n",
      "Pyaar Ka Punchnama\n",
      "Pati Patni Aur Woh (2019 film)\n",
      "Guest iin London\n",
      "Akaash Vani\n",
      "Kaanchi: The Unbreakable\n",
      "Sonu Ke Titu Ki Sweety\n",
      "The Blueberry Hunt\n",
      "Revati (film)\n",
      "Bumboo\n",
      "Ankur Arora Murder Case\n",
      "Sirf (film)\n",
      "Gulaal (film)\n",
      "Vodka Diaries\n",
      "Sankat City\n",
      "The Stoneman Murders\n",
      "Hazaaron Khwaishein Aisi\n",
      "Black Friday (2007 film)\n",
      "Rahasya\n",
      "Via Darjeeling\n",
      "Life Ki Toh Lag Gayi\n",
      "Machine (2017 film)\n",
      "?: A Question Mark\n",
      "Mummy Punjabi\n",
      "Saas Bahu Aur Sensex\n",
      "Khamosh Pani\n",
      "Indu Sarkar\n",
      "Page 3 (film)\n",
      "Aur Pappu Paas Ho Gaya\n",
      "Ishq Forever\n",
      "Pagalpanti (2019 film)\n",
      "Dhanak\n",
      "The Final Exit\n",
      "Raag Desh (film)\n",
      "Kaun Kitne Paani Mein\n",
      "Kalyug (2005 film)\n",
      "Traffic Signal (film)\n",
      "99 (2009 film)\n",
      "Bhaag Johnny\n",
      "Guddu Ki Gun\n",
      "Hate Story 4\n",
      "W (2014 film)\n",
      "Kurbaan (2009 film)\n",
      "Always Kabhi Kabhi\n",
      "Mumbai Salsa\n",
      "Kasak (2005 film)\n",
      "Irudhi Suttru\n",
      "Ramji Londonwaley\n",
      "Tanu Weds Manu\n",
      "Nothing but Life\n",
      "Gulaab Gang\n",
      "Dedh Ishqiya\n",
      "Aaja Nachle\n",
      "Karar: The Deal\n",
      "Sarhad Paar\n",
      "Souten: The Other Woman\n",
      "Hawaa Hawaai\n",
      "Dolly Ki Doli\n",
      "Maan Gaye Mughal-e-Azam\n",
      "Kis Kis Ki Kismat\n",
      "Hisss\n",
      "Murder (2004 film)\n",
      "Albert Pinto Ko Gussa Kyun Aata Hai?\n",
      "Say Salaam India\n",
      "Ishqeria\n",
      "Blood Money (2012 film)\n",
      "Ranbanka\n",
      "Mickey Virus\n",
      "Bandook\n",
      "Tulsi (film)\n",
      "Dear Maya\n",
      "Market (2003 film)\n",
      "Escape from Taliban\n",
      "Paisa Vasool\n",
      "Anjaane (2005 film)\n",
      "The Silent Heroes\n",
      "Zid (2014 film)\n",
      "Life Is Beautiful (2014 film)\n",
      "Bachche Kachche Sachche\n",
      "1971 (2007 film)\n",
      "Traffic (2016 film)\n",
      "Missing (2018 film)\n",
      "Ramayana: The Epic\n",
      "Saat Uchakkey\n",
      "Gali Guleiyan\n",
      "Krishna Aur Kans\n",
      "Rukh (film)\n",
      "Gangs of Wasseypur\n",
      "Gangs of Wasseypur – Part 2\n",
      "Inteqam: The Perfect Game\n",
      "Chittagong (film)\n",
      "Swami (2007 film)\n",
      "Jail (2009 film)\n",
      "What the Fish\n",
      "Thanks Maa\n",
      "P Se PM Tak\n",
      "Zor Lagaa Ke...Haiya!\n",
      "MP3: Mera Pehla Pehla Pyaar\n",
      "U R My Jaan\n",
      "Haunted – 3D\n",
      "Jimmy (2008 film)\n",
      "Ishqedarriyaan\n",
      "Bhopal: A Prayer for Rain\n",
      "Baabarr\n",
      "Classic – Dance of Love\n",
      "Guru (2007 film)\n",
      "Luck (2009 film)\n",
      "Zindagi Tere Naam\n",
      "Chandni Chowk to China\n",
      "Phir Kabhi\n",
      "Don Muthu Swami\n",
      "Children of Heaven\n",
      "Gauri: The Unborn\n",
      "Paranthe Wali Gali\n",
      "Shiva (2006 film)\n",
      "James (2005 film)\n",
      "Uvaa\n",
      "Mumbai Mast Kallander\n",
      "Buddha Mar Gaya\n",
      "Evening Shadows\n",
      "Lakshmi (2014 film)\n",
      "68 Pages\n",
      "Bezubaan Ishq\n",
      "Hanuman (2005 film)\n",
      "Dhokha\n",
      "Yamla Pagla Deewana\n",
      "Hawaizaada\n",
      "Ab Tak Chhappan 2\n",
      "Taxi No. 9211\n",
      "Paathshaala\n",
      "Wedding Anniversary\n",
      "Hattrick (film)\n",
      "Shagird (2011 film)\n",
      "Tum Milo Toh Sahi\n",
      "Ek Alag Mausam\n",
      "Gattu\n",
      "5 Weddings\n",
      "Irada (2017 film)\n",
      "Dharam Sankat Mein\n",
      "Barah Aana\n",
      "Being Cyrus\n",
      "The Tashkent Files\n",
      "Chaalis Chauraasi\n",
      "Jackpot (2013 film)\n",
      "John Day (film)\n",
      "3 Deewarein\n",
      "Waiting (2015 film)\n",
      "Ramprasad Ki Tehrvi\n",
      "Hope Aur Hum\n",
      "The Film\n",
      "Jigyaasa\n",
      "Paanch Ghantey Mien Paanch Crore\n",
      "Chicken Curry Law\n",
      "Anwar (2007 film)\n",
      "Bin Bulaye Baraati\n",
      "Aabra Ka Daabra\n",
      "Sulemani Keeda\n",
      "Photograph (film)\n",
      "Haraamkhor\n",
      "Babumoshai Bandookbaaz\n",
      "Raman Raghav 2.0\n",
      "Manto (2018 film)\n",
      "Thackeray (film)\n",
      "Freaky Ali\n",
      "Manjhi – The Mountain Man\n",
      "The Bypass\n",
      "Motichoor Chaknachoor\n",
      "Titli (2014 film)\n",
      "Panchlait\n",
      "Sheesha (2005 film)\n",
      "Moh Maya Money\n",
      "Julie (2004 film)\n",
      "Tum Bin II\n",
      "Bypass Road (film)\n",
      "Tera Kya Hoga Johnny\n",
      "Dassehra\n",
      "Aa Dekhen Zara\n",
      "Lafangey Parindey\n",
      "3G (film)\n",
      "Shortcut Romeo\n",
      "Waarrior Savitri\n",
      "Tamanchey\n",
      "Hate Story\n",
      "Titoo MBA\n",
      "Julie 2\n",
      "My Birthday Song\n",
      "Love Sex Aur Dhokha\n",
      "Na Ghar Ke Na Ghaat Ke\n",
      "Teen Thay Bhai\n",
      "Dhoop\n",
      "Kagaar: Life on the Edge\n",
      "Humne Jeena Seekh Liya\n",
      "Peepli Live\n",
      "Aalaap (film)\n",
      "Holiday (2006 film)\n",
      "Dharm (film)\n",
      "The Blue Umbrella (2005 film)\n",
      "Global Baba\n",
      "Anaarkali of Aarah\n",
      "Halkaa\n",
      "Mere Baap Pehle Aap\n",
      "Table No. 21\n",
      "Mumbai Meri Jaan\n",
      "Malamaal Weekly\n",
      "Road to Sangam\n",
      "Dhoondte Reh Jaaoge\n",
      "Yun Hota Toh Kya Hota\n",
      "OMG – Oh My God!\n",
      "Tere Bin Laden: Dead or Alive\n",
      "Stanley Ka Dabba\n",
      "Chinar Daastaan-E-Ishq\n",
      "Sikandar (2009 film)\n",
      "Love Games (film)\n",
      "Aakhari Decision\n",
      "Nasha (film)\n",
      "Action Jackson (2014 film)\n",
      "Mercury (film)\n",
      "Khamoshi (2019 film)\n",
      "ABCD 2\n",
      "Aval (2017 film)\n",
      "Mr. Singh Mrs. Mehta\n",
      "Issaq\n",
      "Ekk Deewana Tha\n",
      "My Friend Pinto\n",
      "Dhobi Ghat (film)\n",
      "Ishkq in Paris\n",
      "Rebellious Flower\n",
      "Yadvi – The Dignified Princess\n",
      "Hum Chaar\n",
      "Mughal-e-Azam\n",
      "7 Khoon Maaf\n",
      "Pyaar Impossible!\n",
      "Anjaana Anjaani\n",
      "Fashion (2008 film)\n",
      "Mary Kom (film)\n",
      "Jaane Kahan Se Aayi Hai\n",
      "Jai Gangaajal\n",
      "Aapko Pehle Bhi Kahin Dekha Hai\n",
      "Utthaan\n",
      "Fukrey\n",
      "Bittoo Boss\n",
      "O Teri\n",
      "Veerey Ki Wedding\n",
      "Fukrey Returns\n",
      "Junooniyat\n",
      "Satya 2\n",
      "Jal (film)\n",
      "Meinu Ek Ladki Chaahiye\n",
      "Devi (2016 film)\n",
      "Baazaar\n",
      "Bombairiya\n",
      "Phobia (2016 film)\n",
      "Dear Friend Hitler\n",
      "Miss Tanakpur Haazir Ho\n",
      "Pihu\n",
      "Mastram\n",
      "Union Leader (film)\n",
      "Ugly (film)\n",
      "Ek Din 24 Ghante\n",
      "The Japanese Wife\n",
      "Mumbai Matinee\n",
      "Pyaar Ke Side Effects\n",
      "Adharm (2006 film)\n",
      "Khap (film)\n",
      "Raqeeb\n",
      "Bollywood Diaries\n",
      "Raees (film)\n",
      "Antardwand\n",
      "Eight: The Power of Shani\n",
      "Udaan (2010 film)\n",
      "Phas Gaye Re Obama\n",
      "Mantra (2016 film)\n",
      "Fever (2016 film)\n",
      "Pranaam\n",
      "Samrat & Co.\n",
      "Quick Gun Murugun\n",
      "Riyasat (film)\n",
      "Wafa: A Deadly Love Story\n",
      "Siddharth (2013 film)\n",
      "Deadline: Sirf 24 Ghante\n",
      "Trapped (2016 Hindi film)\n",
      "Shahid (film)\n",
      "Behen Hogi Teri\n",
      "Omerta (film)\n",
      "Kai Po Che!\n",
      "Shaadi Mein Zaroor Aana\n",
      "Newton (film)\n",
      "Stree (2018 film)\n",
      "Made in China (2019 film)\n",
      "CityLights (2014 film)\n",
      "Hamari Adhuri Kahani\n",
      "Phhir\n",
      "Direct Ishq\n",
      "1920 (film)\n",
      "Kushti (film)\n",
      "Main Meri Patni Aur Woh\n",
      "G Kutta Se\n",
      "Tom Dick and Harry (2006 film)\n",
      "Talaash: The Hunt Begins...\n",
      "Devaki (2005 film)\n",
      "Kuch Kuch Locha Hai\n",
      "The Ghazi Attack\n",
      "Rocket Singh: Salesman of the Year\n",
      "Yeh Jawaani Hai Deewani\n",
      "Ae Dil Hai Mushkil\n",
      "Ajab Prem Ki Ghazab Kahani\n",
      "Wake Up Sid\n",
      "Rockstar (2011 film)\n",
      "Bombay Velvet\n",
      "Barfi!\n",
      "Jagga Jasoos\n",
      "Sanju\n",
      "Bachna Ae Haseeno\n",
      "Sarbjit (film)\n",
      "Murder 3\n",
      "D (film)\n",
      "Rang Rasiya\n",
      "Laal Rang\n",
      "Aiyyaa\n",
      "Saawariya\n",
      "Laaga Chunari Mein Daag\n",
      "No One Killed Jessica\n",
      "Hichki\n",
      "Bombay Talkies (film)\n",
      "Mardaani\n",
      "Mardaani 2\n",
      "Gunday\n",
      "Kill Dil\n",
      "Band Baaja Baaraat\n",
      "Bajirao Mastani\n",
      "Simmba\n",
      "Lootera\n",
      "Gully Boy\n",
      "Goliyon Ki Raasleela Ram-Leela\n",
      "Ladies vs Ricky Bahl\n",
      "Honeymoon Travels Pvt. Ltd.\n",
      "The Film Emotional Atyachar\n",
      "Kaun Hai Jo Sapno Mein Aaya\n",
      "Mere Pyare Prime Minister\n",
      "Jai Jawaan Jai Kisaan (film)\n",
      "Spark (2014 film)\n",
      "Karma Aur Holi\n",
      "Aisa Kyon Hota Hai?\n",
      "Maatr\n",
      "Satta (film)\n",
      "Praan Jaye Par Shaan Na Jaye\n",
      "Stumped (film)\n",
      "Jeena Hai Toh Thok Daal\n",
      "Flavors (film)\n",
      "Sadiyaan\n",
      "Super Nani\n",
      "Krrish\n",
      "Bachke Rehna Re Baba\n",
      "Koi... Mil Gaya\n",
      "Kudiyon Ka Hai Zamana\n",
      "Yatra (2007 film)\n",
      "Bazaar E Husn\n",
      "Sonali Cable\n",
      "Jalebi (film)\n",
      "Chalk n Duster\n",
      "Masaan\n",
      "Jia Aur Jia\n",
      "JD (film)\n",
      "Sanam Re\n",
      "Love Ke Chakkar Mein\n",
      "Patiala House (film)\n",
      "Patel Ki Punjabi Shaadi\n",
      "All Is Well (2015 film)\n",
      "Do Dooni Chaar\n",
      "Don't Stop Dreaming\n",
      "D-Day (2013 film)\n",
      "Jhootha Kahin Ka\n",
      "Chintu Ji\n",
      "Pyaar Mein Twist\n",
      "Ishq Ke Parindey\n",
      "Tujhe Meri Kasam\n",
      "Kyaa Super Kool Hain Hum\n",
      "Banjo (2016 film)\n",
      "Out of Control (2003 film)\n",
      "Bank Chor\n",
      "Tere Naal Love Ho Gaya\n",
      "Marjaavaan\n",
      "Life Express (2010 film)\n",
      "Gippi\n",
      "Apartment (film)\n",
      "Dongari Ka Raja\n",
      "Chhota Bheem and the Throne of Bali\n",
      "Fun2shh... Dudes in the 10th Century\n",
      "United Six\n",
      "Thodi Life Thoda Magic\n",
      "Mad About Dance\n",
      "Bullet: Ek Dhamaka\n",
      "Aazaan\n",
      "Veerappan (2016 film)\n",
      "City of Gold (2010 film)\n",
      "Anuradha (2014 film)\n",
      "Sachin: A Billion Dreams\n",
      "Basti (film)\n",
      "Raja Bhaiya (film)\n",
      "Jugni (2016 film)\n",
      "Chal Pichchur Banate Hain\n",
      "Hai Apna Dil Toh Awara\n",
      "Babloo Happy Hai\n",
      "Ramaa: The Saviour\n",
      "Salaam Namaste\n",
      "Race 2\n",
      "Race (2008 film)\n",
      "Happy Ending (film)\n",
      "Ek Hasina Thi (film)\n",
      "Hum Tum\n",
      "Humshakals\n",
      "Roadside Romeo\n",
      "Kaalakaandi\n",
      "Ta Ra Rum Pum\n",
      "Go Goa Gone\n",
      "Cocktail (2012 film)\n",
      "Bullett Raja\n",
      "Parineeta (2005 film)\n",
      "Chef (2017 film)\n",
      "Love Aaj Kal\n",
      "Thoda Pyaar Thoda Magic\n",
      "Phantom (2015 film)\n",
      "3 A.M. (2014 film)\n",
      "Mujhse Shaadi Karogi\n",
      "Bodyguard (2011 Hindi film)\n",
      "Veer (2010 film)\n",
      "Tiger Zinda Hai\n",
      "Bajrangi Bhaijaan\n",
      "Tere Naam\n",
      "Garv: Pride & Honour\n",
      "Tubelight (2017 Hindi film)\n",
      "Kick (2014 film)\n",
      "Yuvvraaj\n",
      "Main Aurr Mrs Khanna\n",
      "Ek Tha Tiger\n",
      "Shaadi Karke Phas Gaya Yaar\n",
      "Dabangg 2\n",
      "Lucky: No Time for Love\n",
      "Jaan-E-Mann\n",
      "Wanted (2009 film)\n",
      "Partner (2007 film)\n",
      "Maine Pyaar Kyun Kiya?\n",
      "Salaam-e-Ishq: A Tribute to Love\n",
      "Marigold (2007 film)\n",
      "Prem Ratan Dhan Payo\n",
      "Dabangg 3\n",
      "Dil Ne Jise Apna Kahaa\n",
      "Jai Ho (film)\n",
      "Phir Milenge\n",
      "Sultan (2016 film)\n",
      "Saawan... The Love Season\n",
      "Kyon Ki\n",
      "London Dreams\n",
      "Dabangg\n",
      "Darna Mana Hai\n",
      "Chand Sa Roshan Chehra\n",
      "Mukhbiir\n",
      "Gulabi Gang (film)\n",
      "Ghost (2019 film)\n",
      "Zinda (film)\n",
      "Rakht\n",
      "Rudraksh (film)\n",
      "Saheb Biwi Aur Gangster 3\n",
      "Munna Bhai M.B.B.S.\n",
      "Lage Raho Munna Bhai\n",
      "Anthony Kaun Hai?\n",
      "Chatur Singh Two Star\n",
      "Tathastu\n",
      "Lamhaa\n",
      "Border (1997 film)\n",
      "Department (film)\n",
      "Plan (film)\n",
      "Dhamaal\n",
      "No Problem (2010 film)\n",
      "Policegiri\n",
      "All the Best: Fun Begins\n",
      "Prassthanam\n",
      "Shortkut\n",
      "Nehlle Pe Dehlla\n",
      "Knock Out (2010 film)\n",
      "Double Dhamaal\n",
      "Shabd (film)\n",
      "Dus\n",
      "Ek Aur Ek Gyarah\n",
      "LOC Kargil\n",
      "Kadvi Hawa\n",
      "Ankhon Dekhi\n",
      "Satrangee Parachute\n",
      "Murari the Mad Gentleman\n",
      "My Brother…Nikhil\n",
      "Jhankaar Beats\n",
      "Shaadi Ka Laddoo\n",
      "It's a Wonderful Afterlife\n",
      "Sholay\n",
      "Pataakha\n",
      "Mujhse Fraaandship Karoge\n",
      "Mere Dad Ki Maruti\n",
      "404 (film)\n",
      "Ishq Click\n",
      "Barkhaa\n",
      "Sacred Evil – A True Story\n",
      "Gangoobai\n",
      "Desi Kattey\n",
      "Dekh Tamasha Dekh\n",
      "Motu Patlu: King of Kings\n",
      "Bumper Draw\n",
      "Shor in the City\n",
      "Sorry Bhai!\n",
      "A Decent Arrangement\n",
      "Loins of Punjab Presents\n",
      "Morning Raga\n",
      "Tehzeeb (2003 film)\n",
      "B.A. Pass\n",
      "Happy New Year (2014 film)\n",
      "Main Hoon Na\n",
      "Chak De! India\n",
      "Om Shanti Om\n",
      "Fan (film)\n",
      "Chalte Chalte (2003 film)\n",
      "Jab Harry Met Sejal\n",
      "Paheli\n",
      "Jab Tak Hai Jaan\n",
      "Rab Ne Bana Di Jodi\n",
      "Ra.One\n",
      "Yeh Lamhe Judaai Ke\n",
      "Devdas (2002 Hindi film)\n",
      "Hum Tumhare Hain Sanam\n",
      "Don 2\n",
      "Don (2006 Hindi film)\n",
      "Swades\n",
      "Kal Ho Naa Ho\n",
      "Dilwale (2015 film)\n",
      "Veer-Zaara\n",
      "Zero (2018 film)\n",
      "My Name Is Khan\n",
      "Keep Safe Distance (film)\n",
      "Teri Meri Kahaani (film)\n",
      "Batti Gul Meter Chalu\n",
      "Jab We Met\n",
      "Vaah! Life Ho Toh Aisi!\n",
      "Mausam (2011 film)\n",
      "Shaandaar\n",
      "Ishq Vishk\n",
      "Phata Poster Nikhla Hero\n",
      "Kabir Singh\n",
      "Dil Maange More\n",
      "Kismat Konnection\n",
      "Vivah\n",
      "Fool & Final\n",
      "Dil Bole Hadippa!\n",
      "Kaminey\n",
      "Udta Punjab\n",
      "Chance Pe Dance\n",
      "I Love Desi\n",
      "Mumbai Can Dance Saala\n",
      "The Journey of Karma\n",
      "Sorry Daddy\n",
      "Filmistaan\n",
      "Dhol (film)\n",
      "Gang of Ghosts\n",
      "1920: London\n",
      "Xcuse Me\n",
      "Hello (2008 film)\n",
      "War Chhod Na Yaar\n",
      "Wajah Tum Ho\n",
      "Ferrari Ki Sawaari\n",
      "Brahman Naman\n",
      "Anna (2016 film)\n",
      "Aan: Men at Work\n",
      "Bhanwarey\n",
      "99.9 FM (film)\n",
      "Hawas (2004 film)\n",
      "Kucch Luv Jaisaa\n",
      "Red Swastik\n",
      "Valentine's Night\n",
      "Khamoshh... Khauff Ki Raat\n",
      "Fareb (2005 film)\n",
      "Khoya Khoya Chand\n",
      "Ghost (2012 film)\n",
      "Karle Pyaar Karle\n",
      "Ek Haseena Thi Ek Deewana Tha\n",
      "Mumbai Delhi Mumbai\n",
      "Baaghi (2016 film)\n",
      "Ok Jaanu\n",
      "Half Girlfriend (film)\n",
      "Haseena Parkar\n",
      "Setters (film)\n",
      "Bombay to Bangkok\n",
      "Paying Guests\n",
      "Iqbal (film)\n",
      "Welcome to Sajjanpur\n",
      "Wah Taj\n",
      "Aagey Se Right\n",
      "Click (2010 film)\n",
      "Ramaiya Vastavaiya\n",
      "Fuddu\n",
      "Yaaram (2019 film)\n",
      "Striker (2010 film)\n",
      "Kuku Mathur Ki Jhand Ho Gayi\n",
      "Fun – Can Be Dangerous Sometimes\n",
      "Karthik Calling Karthik\n",
      "Badmashiyaan\n",
      "Ek Villain\n",
      "Baar Baar Dekho\n",
      "Kapoor & Sons\n",
      "Aiyaary\n",
      "A Gentleman\n",
      "Jabariya Jodi\n",
      "Hasee Toh Phasee\n",
      "Woodstock Villa\n",
      "Khwaabb\n",
      "Main Hoon Part-Time Killer\n",
      "Chaarfutiya Chhokare\n",
      "31st October (film)\n",
      "Krishna Cottage\n",
      "Heroes (2008 film)\n",
      "Aryan: Unbreakable\n",
      "I Proud to Be an Indian\n",
      "Tumbbad\n",
      "Chand Ke Paar Chalo (film)\n",
      "Happy Phirr Bhag Jayegi\n",
      "Neerja\n",
      "The Zoya Factor (film)\n",
      "Khoobsurat (2014 film)\n",
      "Saansein\n",
      "Maximum (film)\n",
      "Magic Magic 3D\n",
      "Ranchi Diaries\n",
      "Mom (film)\n",
      "English Vinglish\n",
      "Phoonk 2\n",
      "Aaj Ka Andha Kanoon\n",
      "Babuji Ek Ticket Bambai\n",
      "Katti Batti\n",
      "Aligarh (film)\n",
      "Take It Easy (2015 film)\n",
      "High Jack (film)\n",
      "Angel (2011 film)\n",
      "Maazii\n",
      "Sons of Ram\n",
      "Coffee with D\n",
      "Bombay to Goa (2007 film)\n",
      "Daddy Cool (2009 Hindi film)\n",
      "Mere Dost Picture Abhi Baki Hai\n",
      "Padmashree Laloo Prasad Yadav\n",
      "Ek Se Badhkar Ek (2004 film)\n",
      "Red Alert: The War Within\n",
      "Fight Club – Members Only\n",
      "Enemmy\n",
      "Ghayal: Once Again\n",
      "Rok Sako To Rok Lo\n",
      "Teesri Aankh: The Hidden Camera\n",
      "Khuda Kasam\n",
      "Naksha\n",
      "Right Yaaa Wrong\n",
      "Khel – No Ordinary Game\n",
      "Bhaiaji Superhit\n",
      "Big Brother (2007 film)\n",
      "The Hero: Love Story of a Spy\n",
      "Mohalla Assi\n",
      "I Love NY (2015 film)\n",
      "Lakeer – Forbidden Lines\n",
      "Jaal: The Trap\n",
      "Singh Saab the Great\n",
      "Jo Bole So Nihaal (film)\n",
      "Poster Boys\n",
      "Jo Hum Chahein\n",
      "Bhoomi (film)\n",
      "Beiimaan Love\n",
      "Ragini MMS 2\n",
      "Noor (film)\n",
      "Ek Paheli Leela\n",
      "Ujda Chaman\n",
      "Khichdi: The Movie\n",
      "Hero (2015 Hindi film)\n",
      "Satellite Shankar\n",
      "Ajji\n",
      "M.S. Dhoni: The Untold Story\n",
      "Shuddh Desi Romance\n",
      "Detective Byomkesh Bakshy!\n",
      "Dil Bechara\n",
      "Sonchiriya\n",
      "Dulha Mil Gaya\n",
      "Samay: When Time Strikes\n",
      "Zindaggi Rocks\n",
      "Chingaari\n",
      "Crazy Cukkad Family\n",
      "Nil Battey Sannata\n",
      "Sabki Bajegi Band\n",
      "Machhli Jal Ki Rani Hai\n",
      "Saand Ki Aankh\n",
      "Naam Shabana\n",
      "Pink (2016 film)\n",
      "Manmarziyaan\n",
      "Dil Juunglee\n",
      "Mulk (film)\n",
      "Hawa (film)\n",
      "Toh Baat Pakki!\n",
      "Bhagmati (2005 film)\n",
      "Silsiilay\n",
      "Meenaxi: A Tale of Three Cities\n",
      "Haider (film)\n",
      "Hamid (film)\n",
      "Saankal\n",
      "Sssshhh...\n",
      "Rough Book\n",
      "Parched\n",
      "Purani Jeans\n",
      "Luv U Soniyo\n",
      "Rules: Pyaar Ka Superhit Formula\n",
      "Rokkk\n",
      "Sheen (film)\n",
      "Student of the Year 2\n",
      "Heropanti\n",
      "Munna Michael\n",
      "A Flying Jatt\n",
      "Baaghi 2\n",
      "Sooper Se Ooper\n",
      "Hyderabad Blues 2\n",
      "M Cream\n",
      "Matrubhoomi\n",
      "Showbiz (film)\n",
      "Good Boy Bad Boy\n",
      "Kucch To Hai\n",
      "One Two Three\n",
      "Gayab\n",
      "Kya Love Story Hai\n",
      "Shart: The Challenge\n",
      "Bajatey Raho\n",
      "Mastizaade\n",
      "Love U...Mr. Kalakaar!\n",
      "C Kkompany\n",
      "Hum Tum Shabana\n",
      "Yeh Dil\n",
      "Kyaa Kool Hai Hum\n",
      "Kyaa Kool Hain Hum 3\n",
      "Chaar Din Ki Chandni\n",
      "Aggar (film)\n",
      "Neal 'n' Nikki\n",
      "Speed (2007 film)\n",
      "Banaras (2006 film)\n",
      "Naina (2005 film)\n",
      "Pinjar (film)\n",
      "Great Grand Masti\n",
      "Genius (2018 Hindi film)\n",
      "Luv U Alia\n",
      "Befikre\n",
      "Yeh Saali Aashiqui\n",
      "Allah Ke Banday\n",
      "Judwaa 2\n",
      "Badlapur (film)\n",
      "October (2018 film)\n",
      "Humpty Sharma Ki Dulhania\n",
      "Main Tera Hero\n",
      "Badrinath Ki Dulhania\n",
      "Kalank\n",
      "Hostel (2011 film)\n",
      "Taarzan: The Wonder Car\n",
      "Zindagi 50-50\n",
      "Challo Driver\n",
      "1920: The Evil Returns\n",
      "Vaastu Shastra (film)\n",
      "Battalion 609\n",
      "Uri: The Surgical Strike\n",
      "Love per Square Foot\n",
      "Tahaan\n",
      "Joggers' Park (film)\n",
      "Tumhari Sulu\n",
      "Ishqiya\n",
      "The Dirty Picture\n",
      "Bobby Jasoos\n",
      "Kahaani\n",
      "Ghanchakkar (film)\n",
      "Commando 3 (film)\n",
      "Junglee (2019 film)\n",
      "Commando: A One Man Army\n",
      "Mukkabaaz\n",
      "Kya Dilli Kya Lahore\n",
      "Raghu Romeo\n",
      "Monsoon Shootout\n",
      "Dil Bechara Pyaar Ka Maara\n",
      "Nayee Padosan\n",
      "Vidyaarthi\n",
      "Green Card Fever\n",
      "Trump Card (film)\n",
      "Netaji Subhas Chandra Bose: The Forgotten Hero\n",
      "Tere Mere Phere\n",
      "Island City (2015 film)\n",
      "Khajoor Pe Atke\n",
      "Chalo Dilli\n",
      "Dasvidaniya\n",
      "Utt Pataang\n",
      "Kaagaz Ke Fools\n",
      "Gour Hari Dastaan\n",
      "Oh My God (2008 film)\n",
      "Bheja Fry (film)\n",
      "Bheja Fry 2\n",
      "Breakaway (2011 film)\n",
      "Zed Plus\n",
      "Risk (2007 film)\n",
      "Players (2012 film)\n",
      "Pehchaan: The Face of Truth\n",
      "7 Hours to Go\n",
      "Amit Sahni Ki List\n",
      "Court (film)\n",
      "Saare Jahaan Se Mehnga\n",
      "Saathiya (film)\n",
      "Home Delivery\n",
      "Mission Istaanbul\n",
      "Dum (2003 Hindi film)\n",
      "Kismat Love Paisa Dilli\n",
      "Zila Ghaziabad\n",
      "Grand Masti\n",
      "Jayantabhai Ki Luv Story\n",
      "Prince (2010 film)\n",
      "Kisna: The Warrior Poet\n",
      "Impatient Vivek\n",
      "Delhi-6\n",
      "Sixteen (2013 Indian film)\n",
      "Mere Genie Uncle\n",
      "Days of Tafree\n",
      "Aisa Yeh Jahaan\n",
      "Daas Dev\n",
      "Arjun: The Warrior Prince\n",
      "Notebook (2019 film)\n",
      "Secret Superstar\n",
      "The Sky Is Pink\n",
      "Honour Killing (film)\n",
      "Aksar 2\n",
      "Love Breakups Zindagi\n",
      "Chura Liyaa Hai Tumne\n",
      "Sharafat Gayi Tel Lene\n",
      "Sallu Ki Shaadi\n",
      "Dunno Y... Na Jaane Kyon\n",
      "Dil Toh Deewana Hai\n",
      "Strings of Passion\n",
      "Taj Mahal: An Eternal Love Story\n"
     ]
    }
   ],
   "source": [
    "# Looping \n",
    "for i in movies.index:  # you can specify index if you want to loop through all the index else by default it will loop through the values \n",
    "    print(i)"
   ]
  },
  {
   "cell_type": "code",
   "execution_count": 59,
   "metadata": {},
   "outputs": [
    {
     "data": {
      "text/plain": [
       "Maths        77\n",
       "Science      90\n",
       "English      90\n",
       "History      11\n",
       "Geography    66\n",
       "Physics      10\n",
       "Name: Marks, dtype: int64"
      ]
     },
     "execution_count": 59,
     "metadata": {},
     "output_type": "execute_result"
    }
   ],
   "source": [
    "# Arithmetic Operators \n",
    "100 - marks_series"
   ]
  },
  {
   "cell_type": "code",
   "execution_count": 60,
   "metadata": {},
   "outputs": [
    {
     "data": {
      "text/plain": [
       "match_no\n",
       "1      False\n",
       "2      False\n",
       "3      False\n",
       "4      False\n",
       "5      False\n",
       "       ...  \n",
       "211    False\n",
       "212    False\n",
       "213    False\n",
       "214    False\n",
       "215    False\n",
       "Name: runs, Length: 215, dtype: bool"
      ]
     },
     "execution_count": 60,
     "metadata": {},
     "output_type": "execute_result"
    }
   ],
   "source": [
    "# Relational Operators \n",
    "Kohli >=100"
   ]
  },
  {
   "cell_type": "markdown",
   "metadata": {},
   "source": [
    "## Boolean Indexing on Series "
   ]
  },
  {
   "cell_type": "code",
   "execution_count": 63,
   "metadata": {},
   "outputs": [
    {
     "data": {
      "text/plain": [
       "50"
      ]
     },
     "execution_count": 63,
     "metadata": {},
     "output_type": "execute_result"
    }
   ],
   "source": [
    "# Find the number of 50's and 100's scored by Kohli \n",
    "Kohli[Kohli>=50].count()"
   ]
  },
  {
   "cell_type": "markdown",
   "metadata": {},
   "source": [
    "## Plotting graphs on series "
   ]
  },
  {
   "cell_type": "code",
   "execution_count": 71,
   "metadata": {},
   "outputs": [
    {
     "name": "stderr",
     "output_type": "stream",
     "text": [
      "Matplotlib is building the font cache; this may take a moment.\n"
     ]
    }
   ],
   "source": [
    "import matplotlib.pyplot as plt"
   ]
  },
  {
   "cell_type": "code",
   "execution_count": 72,
   "metadata": {},
   "outputs": [
    {
     "data": {
      "text/plain": [
       "<Axes: >"
      ]
     },
     "execution_count": 72,
     "metadata": {},
     "output_type": "execute_result"
    },
    {
     "data": {
      "image/png": "[encoded data removed]",
      "text/plain": [
       "<Figure size 640x480 with 1 Axes>"
      ]
     },
     "metadata": {},
     "output_type": "display_data"
    }
   ],
   "source": [
    "subs.plot()"
   ]
  },
  {
   "cell_type": "code",
   "execution_count": 74,
   "metadata": {},
   "outputs": [
    {
     "data": {
      "text/plain": [
       "<Axes: xlabel='lead'>"
      ]
     },
     "execution_count": 74,
     "metadata": {},
     "output_type": "execute_result"
    },
    {
     "data": {
      "image/png": "[encoded data removed]",
      "text/plain": [
       "<Figure size 640x480 with 1 Axes>"
      ]
     },
     "metadata": {},
     "output_type": "display_data"
    }
   ],
   "source": [
    "movies.value_counts().head(20).plot(kind='bar')"
   ]
  },
  {
   "cell_type": "code",
   "execution_count": 75,
   "metadata": {},
   "outputs": [],
   "source": [
    "# some important series methods \n",
    "# astype\n",
    "# between \n",
    "# clip \n",
    "# drop_duplicates\n",
    "# isnull \n",
    "# fillna \n",
    "# isin \n",
    "# apply \n",
    "# copy "
   ]
  },
  {
   "cell_type": "code",
   "execution_count": 77,
   "metadata": {},
   "outputs": [
    {
     "data": {
      "text/plain": [
       "0       48.0\n",
       "1       57.0\n",
       "2       40.0\n",
       "3       43.0\n",
       "4       44.0\n",
       "       ...  \n",
       "360    231.0\n",
       "361    226.0\n",
       "362    155.0\n",
       "363    144.0\n",
       "364    172.0\n",
       "Name: Subscribers gained, Length: 365, dtype: float64"
      ]
     },
     "execution_count": 77,
     "metadata": {},
     "output_type": "execute_result"
    }
   ],
   "source": [
    "# astype \n",
    "subs.astype(float)"
   ]
  },
  {
   "cell_type": "code",
   "execution_count": 86,
   "metadata": {},
   "outputs": [
    {
     "data": {
      "text/plain": [
       "365"
      ]
     },
     "execution_count": 86,
     "metadata": {},
     "output_type": "execute_result"
    }
   ],
   "source": [
    "# between \n",
    "subs.between(50,100).count()"
   ]
  },
  {
   "cell_type": "code",
   "execution_count": 87,
   "metadata": {},
   "outputs": [
    {
     "data": {
      "text/plain": [
       "0       48\n",
       "1       57\n",
       "2       40\n",
       "3       43\n",
       "4       44\n",
       "      ... \n",
       "357    177\n",
       "359    209\n",
       "360    231\n",
       "361    226\n",
       "363    144\n",
       "Name: Subscribers gained, Length: 180, dtype: int64"
      ]
     },
     "execution_count": 87,
     "metadata": {},
     "output_type": "execute_result"
    }
   ],
   "source": [
    "# drop duplicates \n",
    "subs.drop_duplicates()  "
   ]
  },
  {
   "cell_type": "code",
   "execution_count": 91,
   "metadata": {},
   "outputs": [],
   "source": [
    "temp=pd.Series([1,1,1,1,2,3,4,6,7,8])"
   ]
  },
  {
   "cell_type": "code",
   "execution_count": 94,
   "metadata": {},
   "outputs": [],
   "source": [
    "temp.drop_duplicates(inplace=True)"
   ]
  },
  {
   "cell_type": "code",
   "execution_count": 95,
   "metadata": {},
   "outputs": [
    {
     "data": {
      "text/plain": [
       "0    1\n",
       "4    2\n",
       "5    3\n",
       "6    4\n",
       "7    6\n",
       "8    7\n",
       "9    8\n",
       "dtype: int64"
      ]
     },
     "execution_count": 95,
     "metadata": {},
     "output_type": "execute_result"
    }
   ],
   "source": [
    "temp"
   ]
  },
  {
   "cell_type": "code",
   "execution_count": 98,
   "metadata": {},
   "outputs": [
    {
     "data": {
      "text/plain": [
       "1500"
      ]
     },
     "execution_count": 98,
     "metadata": {},
     "output_type": "execute_result"
    }
   ],
   "source": [
    "movies.count()"
   ]
  },
  {
   "cell_type": "code",
   "execution_count": 96,
   "metadata": {},
   "outputs": [
    {
     "data": {
      "text/plain": [
       "movie\n",
       "Qaidi Band                            Aadar Jain\n",
       "Roar: Tigers of the Sundarbans      Aadil Chahal\n",
       "Lipstick Under My Burkha            Aahana Kumra\n",
       "Raat Gayi Baat Gayi?                Aamir Bashir\n",
       "Talaash: The Answer Lies Within       Aamir Khan\n",
       "                                        ...     \n",
       "Honour Killing (film)                Zara Sheikh\n",
       "Aksar 2                              Zareen Khan\n",
       "Love Breakups Zindagi                 Zayed Khan\n",
       "Sallu Ki Shaadi                      Zeenat Aman\n",
       "Taj Mahal: An Eternal Love Story     Zulfi Sayed\n",
       "Name: lead, Length: 566, dtype: object"
      ]
     },
     "execution_count": 96,
     "metadata": {},
     "output_type": "execute_result"
    }
   ],
   "source": [
    "movies.drop_duplicates()"
   ]
  },
  {
   "cell_type": "code",
   "execution_count": 99,
   "metadata": {},
   "outputs": [
    {
     "data": {
      "text/plain": [
       "934"
      ]
     },
     "execution_count": 99,
     "metadata": {},
     "output_type": "execute_result"
    }
   ],
   "source": [
    "movies.duplicated().sum()    "
   ]
  },
  {
   "cell_type": "code",
   "execution_count": 88,
   "metadata": {},
   "outputs": [
    {
     "data": {
      "text/plain": [
       "0       50\n",
       "1       57\n",
       "2       50\n",
       "3       50\n",
       "4       50\n",
       "      ... \n",
       "360    100\n",
       "361    100\n",
       "362    100\n",
       "363    100\n",
       "364    100\n",
       "Name: Subscribers gained, Length: 365, dtype: int64"
      ]
     },
     "execution_count": 88,
     "metadata": {},
     "output_type": "execute_result"
    }
   ],
   "source": [
    "# clip \n",
    "subs.clip(50,100)"
   ]
  },
  {
   "cell_type": "code",
   "execution_count": 100,
   "metadata": {},
   "outputs": [
    {
     "data": {
      "text/plain": [
       "1"
      ]
     },
     "execution_count": 100,
     "metadata": {},
     "output_type": "execute_result"
    }
   ],
   "source": [
    "# isnull \n",
    "temp=pd.Series([1,2,3,4,5,np.nan,7,8,9])\n",
    "temp.isnull().sum()"
   ]
  },
  {
   "cell_type": "code",
   "execution_count": 101,
   "metadata": {},
   "outputs": [
    {
     "data": {
      "text/plain": [
       "0    False\n",
       "1    False\n",
       "2    False\n",
       "3    False\n",
       "4    False\n",
       "5     True\n",
       "6    False\n",
       "7    False\n",
       "8    False\n",
       "dtype: bool"
      ]
     },
     "execution_count": 101,
     "metadata": {},
     "output_type": "execute_result"
    }
   ],
   "source": [
    "temp.isnull()"
   ]
  },
  {
   "cell_type": "code",
   "execution_count": 103,
   "metadata": {},
   "outputs": [],
   "source": [
    "temp.dropna(inplace=True)"
   ]
  },
  {
   "cell_type": "code",
   "execution_count": 104,
   "metadata": {},
   "outputs": [
    {
     "data": {
      "text/plain": [
       "0    1.0\n",
       "1    2.0\n",
       "2    3.0\n",
       "3    4.0\n",
       "4    5.0\n",
       "6    7.0\n",
       "7    8.0\n",
       "8    9.0\n",
       "dtype: float64"
      ]
     },
     "execution_count": 104,
     "metadata": {},
     "output_type": "execute_result"
    }
   ],
   "source": [
    "temp"
   ]
  },
  {
   "cell_type": "code",
   "execution_count": 105,
   "metadata": {},
   "outputs": [
    {
     "data": {
      "text/plain": [
       "0    1.0\n",
       "1    2.0\n",
       "2    3.0\n",
       "3    4.0\n",
       "4    5.0\n",
       "5    0.0\n",
       "6    7.0\n",
       "7    8.0\n",
       "8    9.0\n",
       "dtype: float64"
      ]
     },
     "execution_count": 105,
     "metadata": {},
     "output_type": "execute_result"
    }
   ],
   "source": [
    "# fillna\n",
    "temp=pd.Series([1,2,3,4,5,np.nan,7,8,9])\n",
    "temp.fillna(0)"
   ]
  },
  {
   "cell_type": "code",
   "execution_count": 106,
   "metadata": {},
   "outputs": [
    {
     "data": {
      "text/plain": [
       "0    False\n",
       "1     True\n",
       "2    False\n",
       "3     True\n",
       "4    False\n",
       "5     True\n",
       "6    False\n",
       "7     True\n",
       "8    False\n",
       "dtype: bool"
      ]
     },
     "execution_count": 106,
     "metadata": {},
     "output_type": "execute_result"
    }
   ],
   "source": [
    "# isin\n",
    "temp=pd.Series([1,2,3,4,5,6,7,8,9])\n",
    "temp.isin([2,4,6,8])"
   ]
  },
  {
   "cell_type": "code",
   "execution_count": 107,
   "metadata": {},
   "outputs": [
    {
     "data": {
      "text/plain": [
       "movie\n",
       "Qaidi Band                            Aadar Jain\n",
       "Roar: Tigers of the Sundarbans      Aadil Chahal\n",
       "Lipstick Under My Burkha            Aahana Kumra\n",
       "Raat Gayi Baat Gayi?                Aamir Bashir\n",
       "Talaash: The Answer Lies Within       Aamir Khan\n",
       "                                        ...     \n",
       "Sallu Ki Shaadi                      Zeenat Aman\n",
       "Dunno Y... Na Jaane Kyon             Zeenat Aman\n",
       "Dil Toh Deewana Hai                  Zeenat Aman\n",
       "Strings of Passion                   Zeenat Aman\n",
       "Taj Mahal: An Eternal Love Story     Zulfi Sayed\n",
       "Name: lead, Length: 1500, dtype: object"
      ]
     },
     "execution_count": 107,
     "metadata": {},
     "output_type": "execute_result"
    }
   ],
   "source": [
    "# apply\n",
    "movies"
   ]
  },
  {
   "cell_type": "code",
   "execution_count": 109,
   "metadata": {},
   "outputs": [
    {
     "data": {
      "text/plain": [
       "movie\n",
       "Qaidi Band                           AADAR\n",
       "Roar: Tigers of the Sundarbans       AADIL\n",
       "Lipstick Under My Burkha            AAHANA\n",
       "Raat Gayi Baat Gayi?                 AAMIR\n",
       "Talaash: The Answer Lies Within      AAMIR\n",
       "                                     ...  \n",
       "Sallu Ki Shaadi                     ZEENAT\n",
       "Dunno Y... Na Jaane Kyon            ZEENAT\n",
       "Dil Toh Deewana Hai                 ZEENAT\n",
       "Strings of Passion                  ZEENAT\n",
       "Taj Mahal: An Eternal Love Story     ZULFI\n",
       "Name: lead, Length: 1500, dtype: object"
      ]
     },
     "execution_count": 109,
     "metadata": {},
     "output_type": "execute_result"
    }
   ],
   "source": [
    "movies.apply(lambda x:x.split()[0].upper())"
   ]
  },
  {
   "cell_type": "code",
   "execution_count": 110,
   "metadata": {},
   "outputs": [
    {
     "data": {
      "text/plain": [
       "0       48\n",
       "1       57\n",
       "2       40\n",
       "3       43\n",
       "4       44\n",
       "      ... \n",
       "360    231\n",
       "361    226\n",
       "362    155\n",
       "363    144\n",
       "364    172\n",
       "Name: Subscribers gained, Length: 365, dtype: int64"
      ]
     },
     "execution_count": 110,
     "metadata": {},
     "output_type": "execute_result"
    }
   ],
   "source": [
    "# Example-2 \n",
    "subs"
   ]
  },
  {
   "cell_type": "code",
   "execution_count": 111,
   "metadata": {},
   "outputs": [
    {
     "data": {
      "text/plain": [
       "135.64383561643837"
      ]
     },
     "execution_count": 111,
     "metadata": {},
     "output_type": "execute_result"
    }
   ],
   "source": [
    "subs.mean()"
   ]
  },
  {
   "cell_type": "code",
   "execution_count": 113,
   "metadata": {},
   "outputs": [
    {
     "data": {
      "text/plain": [
       "0       Bad Data\n",
       "1       Bad Data\n",
       "2       Bad Data\n",
       "3       Bad Data\n",
       "4       Bad Data\n",
       "         ...    \n",
       "360    Good Data\n",
       "361    Good Data\n",
       "362    Good Data\n",
       "363    Good Data\n",
       "364    Good Data\n",
       "Name: Subscribers gained, Length: 365, dtype: object"
      ]
     },
     "execution_count": 113,
     "metadata": {},
     "output_type": "execute_result"
    }
   ],
   "source": [
    "subs.apply(lambda x:'Good Data' if x>subs.mean() else 'Bad Data')"
   ]
  },
  {
   "cell_type": "code",
   "execution_count": 115,
   "metadata": {},
   "outputs": [],
   "source": [
    "# Copy \n",
    "new = subs.head()"
   ]
  },
  {
   "cell_type": "code",
   "execution_count": 116,
   "metadata": {},
   "outputs": [
    {
     "data": {
      "text/plain": [
       "0    48\n",
       "1    57\n",
       "2    40\n",
       "3    43\n",
       "4    44\n",
       "Name: Subscribers gained, dtype: int64"
      ]
     },
     "execution_count": 116,
     "metadata": {},
     "output_type": "execute_result"
    }
   ],
   "source": [
    "new"
   ]
  },
  {
   "cell_type": "code",
   "execution_count": 117,
   "metadata": {},
   "outputs": [],
   "source": [
    "new[1]=100"
   ]
  },
  {
   "cell_type": "code",
   "execution_count": 118,
   "metadata": {},
   "outputs": [
    {
     "data": {
      "text/plain": [
       "0     48\n",
       "1    100\n",
       "2     40\n",
       "3     43\n",
       "4     44\n",
       "Name: Subscribers gained, dtype: int64"
      ]
     },
     "execution_count": 118,
     "metadata": {},
     "output_type": "execute_result"
    }
   ],
   "source": [
    "new"
   ]
  },
  {
   "cell_type": "code",
   "execution_count": 119,
   "metadata": {},
   "outputs": [
    {
     "data": {
      "text/plain": [
       "0       48\n",
       "1      100\n",
       "2       40\n",
       "3       43\n",
       "4       44\n",
       "      ... \n",
       "360    231\n",
       "361    226\n",
       "362    155\n",
       "363    144\n",
       "364    172\n",
       "Name: Subscribers gained, Length: 365, dtype: int64"
      ]
     },
     "execution_count": 119,
     "metadata": {},
     "output_type": "execute_result"
    }
   ],
   "source": [
    "subs"
   ]
  },
  {
   "cell_type": "code",
   "execution_count": 120,
   "metadata": {},
   "outputs": [],
   "source": [
    "# As you might have noticed that the changes made in the new series reflected the original series as well. It happened because the new series was just a view of the original series. If we want to create a new series with the same data as the original series, then we need to use the copy() function.\n",
    "new=subs.head().copy()"
   ]
  },
  {
   "cell_type": "code",
   "execution_count": 121,
   "metadata": {},
   "outputs": [
    {
     "data": {
      "text/plain": [
       "0     48\n",
       "1    100\n",
       "2     40\n",
       "3     43\n",
       "4     44\n",
       "Name: Subscribers gained, dtype: int64"
      ]
     },
     "execution_count": 121,
     "metadata": {},
     "output_type": "execute_result"
    }
   ],
   "source": [
    "new"
   ]
  },
  {
   "cell_type": "code",
   "execution_count": 122,
   "metadata": {},
   "outputs": [],
   "source": [
    "new[0]=0"
   ]
  },
  {
   "cell_type": "code",
   "execution_count": 123,
   "metadata": {},
   "outputs": [
    {
     "data": {
      "text/plain": [
       "0      0\n",
       "1    100\n",
       "2     40\n",
       "3     43\n",
       "4     44\n",
       "Name: Subscribers gained, dtype: int64"
      ]
     },
     "execution_count": 123,
     "metadata": {},
     "output_type": "execute_result"
    }
   ],
   "source": [
    "new"
   ]
  },
  {
   "cell_type": "code",
   "execution_count": 124,
   "metadata": {},
   "outputs": [
    {
     "data": {
      "text/plain": [
       "0       48\n",
       "1      100\n",
       "2       40\n",
       "3       43\n",
       "4       44\n",
       "      ... \n",
       "360    231\n",
       "361    226\n",
       "362    155\n",
       "363    144\n",
       "364    172\n",
       "Name: Subscribers gained, Length: 365, dtype: int64"
      ]
     },
     "execution_count": 124,
     "metadata": {},
     "output_type": "execute_result"
    }
   ],
   "source": [
    "subs\n",
    "# you might observe that the changes made in the new series did not reflect the original series. It happened because the new series was a copy of the original series."
   ]
  },
  {
   "cell_type": "code",
   "execution_count": null,
   "metadata": {},
   "outputs": [],
   "source": []
  }
 ],
 "metadata": {
  "kernelspec": {
   "display_name": "venv",
   "language": "python",
   "name": "python3"
  },
  "language_info": {
   "codemirror_mode": {
    "name": "ipython",
    "version": 3
   },
   "file_extension": ".py",
   "mimetype": "text/x-python",
   "name": "python",
   "nbconvert_exporter": "python",
   "pygments_lexer": "ipython3",
   "version": "3.11.9"
  }
 },
 "nbformat": 4,
 "nbformat_minor": 2
}
